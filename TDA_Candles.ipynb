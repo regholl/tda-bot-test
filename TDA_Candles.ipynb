{
 "cells": [
  {
   "cell_type": "markdown",
   "id": "a1d0cbea",
   "metadata": {},
   "source": [
    "# TDA_Candles"
   ]
  },
  {
   "cell_type": "markdown",
   "id": "086aab75",
   "metadata": {},
   "source": [
    "# DB"
   ]
  },
  {
   "cell_type": "code",
   "execution_count": 7,
   "id": "f0307fbb",
   "metadata": {},
   "outputs": [
    {
     "data": {
      "text/plain": [
       "'{\"F\": {\"market_value\": 0}}'"
      ]
     },
     "execution_count": 7,
     "metadata": {},
     "output_type": "execute_result"
    }
   ],
   "source": [
    "dct = {\n",
    "    \"F\": {\n",
    "        \"market_value\": 0\n",
    "    }\n",
    "}\n",
    "json.dumps(dct)"
   ]
  },
  {
   "cell_type": "code",
   "execution_count": 1,
   "id": "3e1c1258",
   "metadata": {},
   "outputs": [
    {
     "name": "stderr",
     "output_type": "stream",
     "text": [
      "2022-09-17 17:13:26.999 INFO    numexpr.utils: NumExpr defaulting to 8 threads.\n"
     ]
    }
   ],
   "source": [
    "# Import required packages\n",
    "\n",
    "from boto.s3.connection import S3Connection \n",
    "from deta import Deta\n",
    "from dotenv import load_dotenv\n",
    "import os\n",
    "import streamlit as st\n",
    "\n",
    "# Connect to Deta Base\n",
    "\n",
    "def connect_db():\n",
    "    if \".env\" in os.listdir():\n",
    "        env = load_dotenv(\".env\")\n",
    "        DETA_KEY = os.getenv(\"DETA_KEY\")\n",
    "    else:\n",
    "        try:\n",
    "            DETA_KEY = os.environ[\"DETA_KEY\"]\n",
    "            # conn = S3Connection(DETA_KEY)\n",
    "        except KeyError:\n",
    "            DETA_KEY = st.secrets[\"DETA_KEY\"]\n",
    "    deta = Deta(DETA_KEY)\n",
    "    return deta"
   ]
  },
  {
   "cell_type": "markdown",
   "id": "1747a7e7",
   "metadata": {},
   "source": [
    "# DB Setup"
   ]
  },
  {
   "cell_type": "code",
   "execution_count": 2,
   "id": "da8ea558",
   "metadata": {},
   "outputs": [],
   "source": [
    "# Import packages\n",
    "\n",
    "from boto.s3.connection import S3Connection\n",
    "import datetime as dt\n",
    "# from db import *\n",
    "from deta import Deta\n",
    "from dotenv import load_dotenv\n",
    "import json\n",
    "import math\n",
    "import numpy as np\n",
    "import os\n",
    "import pandas as pd\n",
    "import plotly.express as px\n",
    "import pytz\n",
    "import requests\n",
    "import streamlit as st\n",
    "import streamlit_authenticator as stauth\n",
    "from streamlit_option_menu import option_menu\n",
    "import ta"
   ]
  },
  {
   "cell_type": "code",
   "execution_count": 69,
   "id": "0a3913a4",
   "metadata": {},
   "outputs": [],
   "source": [
    "# Connect to database\n",
    "\n",
    "deta = connect_db()\n",
    "config_db = deta.Base(\"config_db\")\n",
    "users_db = deta.Base(\"users_db\")\n",
    "tickers_db = deta.Base(\"tickers_db\")"
   ]
  },
  {
   "cell_type": "code",
   "execution_count": 70,
   "id": "0aa48865",
   "metadata": {},
   "outputs": [],
   "source": [
    "tickers_info = tickers_db.fetch().items\n",
    "tickers = [item[\"key\"].upper() for item in tickers_info]\n",
    "ticker_dict = {}\n",
    "for i in range(len(tickers)):\n",
    "    ticker_dict[tickers[i]] = tickers_info[i]\n",
    "    ticker_dict[tickers[i]][\"option_symbol\"] = tickers[i]\n",
    "    ticker_dict[tickers[i]][\"average_price\"] = 0\n",
    "    ticker_dict[tickers[i]][\"market_value\"] = 0\n",
    "    ticker_dict[tickers[i]][\"long_shares\"] = 0\n",
    "    ticker_dict[tickers[i]][\"short_shares\"] = 0\n",
    "    ticker_dict[tickers[i]][\"quantity\"] = 0\n",
    "    ticker_dict[tickers[i]][\"option_last\"] = 0"
   ]
  },
  {
   "cell_type": "code",
   "execution_count": 71,
   "id": "35ceb5ec",
   "metadata": {},
   "outputs": [],
   "source": [
    "checkpoints_db = deta.Base(\"checkpoints_db\")\n",
    "checkpoints_info = checkpoints_db.fetch().items\n",
    "for i in range(len(checkpoints_info)):\n",
    "    key2 = checkpoints_info[i]['key']\n",
    "    if key2 in tickers:\n",
    "        idx = tickers.index(key2)\n",
    "        for key, value in checkpoints_info[i].items():\n",
    "            ticker_dict[tickers[idx]][key] = value"
   ]
  },
  {
   "cell_type": "code",
   "execution_count": 4,
   "id": "f6e69224",
   "metadata": {},
   "outputs": [],
   "source": [
    "# Global variables\n",
    "\n",
    "utc = pytz.timezone('UTC')\n",
    "local_timezone = pytz.timezone('US/Pacific')\n",
    "tda_base = 'https://api.tdameritrade.com/v1/'"
   ]
  },
  {
   "cell_type": "code",
   "execution_count": 5,
   "id": "e8454269",
   "metadata": {},
   "outputs": [
    {
     "data": {
      "text/plain": [
       "[{'candle_type': 'Heikin Ashi',\n",
       "  'confirm_time': 5,\n",
       "  'confirm_unit': 'second',\n",
       "  'contracts': 1,\n",
       "  'delta_min': 50,\n",
       "  'dte_min': 0,\n",
       "  'ema_length': 100,\n",
       "  'extended_hours': False,\n",
       "  'frequency': 5,\n",
       "  'frequency_type': 'minute',\n",
       "  'hma_length': 7,\n",
       "  'indicator': 'HMA',\n",
       "  'key': 'F',\n",
       "  'max': 0,\n",
       "  'min': 0,\n",
       "  'order_type': 'MARKET',\n",
       "  'pause_time': 5,\n",
       "  'pause_unit': 'minute',\n",
       "  'period': 10,\n",
       "  'period_type': 'day',\n",
       "  'stoploss': 1000,\n",
       "  'stoploss_pct': 10,\n",
       "  'stoploss_type': 'Fixed $',\n",
       "  'take_profit': 1000,\n",
       "  'take_profit_pct': 100,\n",
       "  'take_profit_type': 'Fixed $',\n",
       "  'time_in_candle': 0,\n",
       "  'trail_pct': 10,\n",
       "  'trigger_trail': 100000,\n",
       "  'trigger_trail_pct': 100,\n",
       "  'trigger_trail_trail_pct': 100,\n",
       "  'trigger_trail_type': 'Fixed $',\n",
       "  'triggered': False,\n",
       "  'use_close': False,\n",
       "  'wick_requirement': 'Any wick okay'},\n",
       " {'candle_type': 'Heikin Ashi',\n",
       "  'confirm_time': 5,\n",
       "  'confirm_unit': 'second',\n",
       "  'contracts': 1,\n",
       "  'delta_min': 50,\n",
       "  'dte_min': 0,\n",
       "  'ema_length': 100,\n",
       "  'extended_hours': False,\n",
       "  'frequency': 5,\n",
       "  'frequency_type': 'minute',\n",
       "  'hma_length': 7,\n",
       "  'indicator': 'HMA',\n",
       "  'key': 'LCID',\n",
       "  'max': 0,\n",
       "  'min': 0,\n",
       "  'order_type': 'MARKET',\n",
       "  'pause_time': 5,\n",
       "  'pause_unit': 'minute',\n",
       "  'period': 10,\n",
       "  'period_type': 'day',\n",
       "  'stoploss': 1000,\n",
       "  'stoploss_pct': 10,\n",
       "  'stoploss_type': 'Fixed $',\n",
       "  'take_profit': 1000,\n",
       "  'take_profit_pct': 100,\n",
       "  'take_profit_type': 'Fixed $',\n",
       "  'time_in_candle': 0,\n",
       "  'trail_pct': 10,\n",
       "  'trigger_trail': 100000,\n",
       "  'trigger_trail_pct': 100,\n",
       "  'trigger_trail_trail_pct': 100,\n",
       "  'trigger_trail_type': 'Fixed $',\n",
       "  'triggered': False,\n",
       "  'use_close': False,\n",
       "  'wick_requirement': 'Any wick okay'}]"
      ]
     },
     "execution_count": 5,
     "metadata": {},
     "output_type": "execute_result"
    }
   ],
   "source": [
    "# Get all items\n",
    "\n",
    "items = tickers_db.fetch().items\n",
    "items"
   ]
  },
  {
   "cell_type": "code",
   "execution_count": 7,
   "id": "17ccf733",
   "metadata": {},
   "outputs": [],
   "source": [
    "# Delete all items\n",
    "\n",
    "# keys = [item['key'] for item in items]\n",
    "# for key in keys:\n",
    "#     tickers_db.delete(key)"
   ]
  },
  {
   "cell_type": "code",
   "execution_count": 9,
   "id": "046c36fc",
   "metadata": {},
   "outputs": [],
   "source": [
    "# Setup config database\n",
    "\n",
    "# config_keys = [\"HEROKU_API\", \"TDA_API\", \"TDA_REFRESH\", \"TDA_ACCOUNT\"]\n",
    "# config_values = [os.getenv(key) for key in config_keys]\n",
    "# config_keys = config_keys + [\"TDA_ACCESS\", \"TDA_LAST_ACCESS\", \"TDA_LAST_REFRESH\", \"TDA_ACCESS_LIMIT\", \"BOT_ON\"]\n",
    "# config_values = config_values + [\"asfdasdf\", \"8/8/2022 20:54:30\", \"8/18/2022 19:08:26\", \"30\", True]\n",
    "# for i in range(len(config_keys)):\n",
    "#     entry = {\n",
    "#         \"key\": config_keys[i],\n",
    "#         \"value\": config_values[i]\n",
    "#     }\n",
    "#     config_db.put(entry)"
   ]
  },
  {
   "cell_type": "code",
   "execution_count": 8,
   "id": "57857467",
   "metadata": {},
   "outputs": [],
   "source": [
    "# # Setup tickers database\n",
    "\n",
    "# tickers = [\"SWN\", \"SNAP\", \"WBD\", \"CCL\", \"F\", \"HOOD\"]\n",
    "# period_types = [\"day\"] * len(tickers)\n",
    "# periods = [10] * len(tickers)\n",
    "# frequency_types = [\"minute\"] * len(tickers)\n",
    "# frequencies = [30] * len(tickers)\n",
    "# extended_hours = [False] * len(tickers)\n",
    "# ema_lengths = [10] * len(tickers)\n",
    "# hma_lengths = [7] * len(tickers)\n",
    "# contracts = [1] * len(tickers)\n",
    "# stoplosses = [1000] * len(tickers)\n",
    "# stoploss_pcts = [10] * len(tickers)\n",
    "# trailing_pcts = [10] * len(tickers)\n",
    "# use_trailings = [False] * len(tickers)\n",
    "# use_pcts = [False] * len(tickers)\n",
    "# dte_mins = [0] * len(tickers)\n",
    "# delta_mins = [50] * len(tickers)\n",
    "\n",
    "# for i in range(len(tickers)):\n",
    "#     entry = {\n",
    "#         \"key\": tickers[i], \n",
    "#         \"period_type\": period_types[i], \n",
    "#         \"period\": periods[i],\n",
    "#         \"frequency_type\": frequency_types[i],\n",
    "#         \"frequency\": frequencies[i],\n",
    "#         \"extended_hours\": extended_hours[i],\n",
    "#         \"ema_length\": ema_lengths[i],\n",
    "#         \"hma_length\": hma_lengths[i],\n",
    "#         \"contracts\": contracts[i],\n",
    "#         \"stoploss\": stoplosses[i],\n",
    "#         \"stoploss_pct\": stoploss_pcts[i],\n",
    "#         \"trailing_pct\": trailing_pcts[i],\n",
    "#         \"use_trailing\": use_trailings[i],\n",
    "#         \"use_pct\": use_pcts[i],\n",
    "#         \"dte_min\": dte_mins[i],\n",
    "#         \"delta_min\": delta_mins[i],\n",
    "#     }\n",
    "#     tickers_db.put(entry)"
   ]
  },
  {
   "cell_type": "markdown",
   "id": "d89bae27",
   "metadata": {},
   "source": [
    "# TDA Functions"
   ]
  },
  {
   "cell_type": "code",
   "execution_count": 13,
   "id": "d3acd765",
   "metadata": {},
   "outputs": [],
   "source": [
    "# Import packages\n",
    "\n",
    "import datetime as dt\n",
    "from deta import Deta\n",
    "from dotenv import load_dotenv\n",
    "import json\n",
    "import numpy as np\n",
    "import os\n",
    "import pandas as pd\n",
    "import pytz\n",
    "import requests\n",
    "\n",
    "# Database connection\n",
    "\n",
    "def connect_db():\n",
    "    load_dotenv(\".env\")\n",
    "    DETA_KEY = os.getenv(\"DETA_KEY\")\n",
    "    deta = Deta(DETA_KEY)\n",
    "    return deta\n",
    "\n",
    "config_db = connect_db().Base(\"config_db\")\n",
    "\n",
    "# Global variables\n",
    "\n",
    "utc = pytz.timezone('UTC')\n",
    "local_timezone = pytz.timezone('US/Pacific')\n",
    "tda_base = 'https://api.tdameritrade.com'\n",
    "tda_access_limit = int(config_db.get(\"TDA_ACCESS_LIMIT\")['value'])\n",
    "tda_refresh = config_db.get(\"TDA_REFRESH\")['value']\n",
    "tda_api = config_db.get(\"TDA_API\")['value']\n",
    "tda_account = config_db.get(\"TDA_ACCOUNT\")['value']\n",
    "\n",
    "# TDA functions\n",
    "\n",
    "def tda_authenticate():\n",
    "    config_db = connect_db().Base(\"config_db\")\n",
    "    access_time_adj = int(tda_access_limit * 0.9)\n",
    "    tda_access_last = pd.Timestamp(config_db.get(\"TDA_LAST_ACCESS\")['value'], tz=utc).astimezone(local_timezone)\n",
    "    tda_payload = {\n",
    "        'grant_type': 'refresh_token',\n",
    "        'refresh_token': tda_refresh,\n",
    "        'client_id': tda_api,\n",
    "    }\n",
    "    tda_auth_url = '{}/v1/oauth2/token'.format(tda_base)\n",
    "    now_time = dt.datetime.now(tz=local_timezone)\n",
    "    minutes_since_refresh = round((now_time - tda_access_last).total_seconds() / 60, 2)\n",
    "    if minutes_since_refresh > access_time_adj:\n",
    "        tda_token_request = requests.post(tda_auth_url, data = tda_payload)\n",
    "        tda_token_response = json.loads(tda_token_request.content)\n",
    "        tda_access_token = tda_token_response['access_token']\n",
    "        put_keys = [\"TDA_ACCESS\", \"TDA_LAST_ACCESS\"]\n",
    "        put_values = [tda_access_token, dt.datetime.now(tz=utc).strftime(\"%Y-%m-%d %X\")]\n",
    "        for i in range(len(put_keys)):\n",
    "            entry = {\n",
    "                \"key\": put_keys[i],\n",
    "                \"value\": put_values[i]\n",
    "            }\n",
    "            config_db.put(entry)\n",
    "    else:\n",
    "        tda_access_token = config_db.get(\"TDA_ACCESS\")['value']\n",
    "    tda_headers = {'Authorization': 'Bearer {}'.format(tda_access_token)}\n",
    "    return tda_headers\n",
    "\n",
    "def get_quote_tda(symbol=\"SPY\"):\n",
    "    quote_url = f\"{tda_base}/v1/marketdata/quotes?apikey={tda_api}&symbol={symbol}\"\n",
    "    tda_headers = tda_authenticate()\n",
    "    req = requests.get(quote_url, headers = tda_headers)\n",
    "    resp = json.loads(req.content)\n",
    "    return resp\n",
    "\n",
    "def get_data_tda(ticker=\"SPY\", periodType=\"day\", period=10, frequencyType=\"minute\", frequency=30, extended_hours=False):\n",
    "    periodTypes = [\"day\", \"month\", \"year\", \"ytd\"]\n",
    "    period_day = [1, 2, 3, 4, 5, 10]\n",
    "    period_month = [1, 2, 3, 6]\n",
    "    period_year = [1, 2, 3, 5, 10, 15, 20]\n",
    "    period_ytd = [1]\n",
    "    frequencyType_day = [\"minute\"]\n",
    "    frequencyType_month = [\"daily\", \"weekly\"]\n",
    "    frequencyType_year = [\"daily\", \"weekly\", \"monthly\"]\n",
    "    frequencyType_ytd = [\"daily\", \"weekly\"]\n",
    "    frequency_minute = [1, 5, 10, 15, 30]\n",
    "    frequency_daily = [1]\n",
    "    frequency_weekly = [1]\n",
    "    frequency_monthly = [1]\n",
    "    # ext = False\n",
    "    useEpoch = False\n",
    "    now = dt.datetime.now()\n",
    "    epoch = dt.datetime.utcfromtimestamp(0)\n",
    "    # now = dt.datetime.now(tz=utc)\n",
    "    # epoch = pd.Timestamp(dt.datetime.utcfromtimestamp(0),tz=utc)\n",
    "    epoch_now_diff = now - epoch\n",
    "    epoch_to_now = epoch_now_diff.days * 24 * 60 * 60 * 1000 + (epoch_now_diff.seconds * 1000) + (int(epoch_now_diff.microseconds / 1000))\n",
    "    then = now - dt.timedelta(days=1)\n",
    "    epoch_then_diff = then - epoch\n",
    "    epoch_to_then = epoch_then_diff.days * 24 * 60 * 60 * 1000 + (epoch_then_diff.seconds * 1000) + (int(epoch_then_diff.microseconds / 1000))\n",
    "    startDate = epoch_to_then\n",
    "    endDate = epoch_to_now\n",
    "    data_url = f\"{tda_base}/v1/marketdata/{ticker}/pricehistory?apikey={tda_api}&frequencyType={frequencyType}&frequency={frequency}&needExtendedHoursData={extended_hours}&endDate={endDate}\"\n",
    "    if useEpoch:\n",
    "        data_url = data_url + f\"&startDate={startDate}\"\n",
    "    else:\n",
    "        data_url = data_url + f\"&periodType={periodType}&period={period}\"\n",
    "    tda_headers = tda_authenticate()\n",
    "    req = requests.get(data_url, headers = tda_headers)\n",
    "    resp = json.loads(req.content)\n",
    "    bars = resp['candles']\n",
    "    if bars[-1]['close'] == 0:\n",
    "        bars = bars[:-1]\n",
    "    return bars\n",
    "\n",
    "def get_positions_tda():\n",
    "    tda_headers = tda_authenticate()\n",
    "    tda_account_url = '{}/v1/accounts/{}'.format(tda_base, tda_account)\n",
    "    tda_positions_url = '{}?fields=positions'.format(tda_account_url)\n",
    "    tda_positions_request = requests.get(tda_positions_url, headers = tda_headers)\n",
    "    tda_positions_content = json.loads(tda_positions_request.content)\n",
    "    positions = []\n",
    "    if 'positions' in tda_positions_content['securitiesAccount']:\n",
    "        positions = tda_positions_content['securitiesAccount']['positions']\n",
    "    else:\n",
    "        positions = [{\n",
    "            \"instrument\": {\n",
    "                \"symbol\": \"None\"\n",
    "            },\n",
    "            \"longQuantity\": 0,\n",
    "            \"shortQuantity\": 0,\n",
    "            \"averagePrice\": 0,\n",
    "            \"marketValue\": 0,\n",
    "            \"currentDayProfitLossPercentage\": 0\n",
    "        }]\n",
    "    return positions\n",
    "\n",
    "def get_orders_tda():\n",
    "    tda_headers = tda_authenticate()\n",
    "    tda_history_url = '{}/v1/accounts/{}/transactions'.format(tda_base, tda_account)\n",
    "    tda_history_request = requests.get(tda_history_url, headers = tda_headers)\n",
    "    tda_history_content = json.loads(tda_history_request.content)\n",
    "    orders = []\n",
    "    if len(tda_history_content) < 1:\n",
    "        orders = [{\n",
    "            \"orderDate\": \"1/1/2000 12:00:00\",\n",
    "            \"transactionItem\": {\n",
    "                \"instrument\": {\n",
    "                    \"symbol\": \"none\"\n",
    "                },\n",
    "                \"instruction\": \"none\",\n",
    "                \"amount\": 0,\n",
    "                \"price\": 0\n",
    "            }\n",
    "        }]\n",
    "    else:\n",
    "        orders = [item for item in tda_history_content if item['type'] == 'TRADE']\n",
    "    return orders\n",
    "\n",
    "def get_orders2_tda():\n",
    "    tda_headers = tda_authenticate()\n",
    "    tda_account_url = '{}/v1/accounts/{}'.format(tda_base, tda_account)\n",
    "    tda_orders_url = '{}?fields=orders'.format(tda_account_url)\n",
    "    tda_orders_request = requests.get(tda_orders_url, headers = tda_headers)\n",
    "    tda_orders_content = json.loads(tda_orders_request.content)\n",
    "    print(tda_orders_content)\n",
    "    orders = []\n",
    "    if 'orderStrategies' in tda_orders_content['securitiesAccount']:\n",
    "        orders = tda_orders_content['securitiesAccount']['orderStrategies']\n",
    "    return orders\n",
    "\n",
    "def get_hours_tda():\n",
    "    tda_headers = tda_authenticate()\n",
    "    # market_date = dt.datetime.now().strftime('%Y-%m-%d')\n",
    "    # tda_hours_url = '{}/v1/marketdata/EQUITY/hours?apikey={}&date={}'.format(tda_base, tda_api, market_date)\n",
    "    # tda_hours_content = json.loads(requests.get(tda_hours_url, headers = tda_headers).content)\n",
    "    # market_open = pd.to_datetime(tda_hours_content['equity']['EQ']['sessionHours']['regularMarket'][0]['start'])\n",
    "    # market_close = pd.to_datetime(tda_hours_content['equity']['EQ']['sessionHours']['regularMarket'][0]['end'])\n",
    "    # if market_close > dt.datetime.now(tz=local_timezone) > market_open:\n",
    "    #     market_is_open = True\n",
    "    # else:\n",
    "    #     market_is_open = False\n",
    "    # return market_is_open\n",
    "    current_time = dt.datetime.now(tz=local_timezone)\n",
    "    market = \"EQUITY\"\n",
    "    tda_hours_url = '{}/v1/marketdata/{}/hours?apikey={}'.format(tda_base, market, tda_api)\n",
    "    tda_hours_request = requests.get(tda_hours_url, headers = tda_headers)\n",
    "    if tda_hours_request.status_code != 200:\n",
    "        tda_hours_content = tda_hours_request.content\n",
    "        print(tda_hours_content)\n",
    "        closing_time = current_time\n",
    "        market_is_open = False\n",
    "    else:\n",
    "        tda_hours_content = json.loads(tda_hours_request.content)\n",
    "        if 'EQ' in list(tda_hours_content['equity'].keys()):\n",
    "            closing_time = pd.to_datetime(tda_hours_content['equity']['EQ']['sessionHours']['regularMarket'][0]['end']).astimezone(local_timezone)\n",
    "            market_is_open = tda_hours_content['equity']['EQ']['isOpen']\n",
    "        else:\n",
    "            closing_time = current_time\n",
    "            market_is_open = False\n",
    "    return (market_is_open, closing_time)\n",
    "\n",
    "def get_chain_tda(ticker):\n",
    "    result = {}\n",
    "    contract_type = \"ALL\" # ALL (default), CALL, PUT\n",
    "    delta_min = int(tickers_db.get(ticker)['delta_min'])\n",
    "    # delta_min = 90\n",
    "    strike_count = 3\n",
    "    from50 = np.round(abs(1 - delta_min / 50), 2)\n",
    "    while from50 > 0:\n",
    "        strike_count += 2\n",
    "        from50 = np.round(from50 - 0.05, 2)\n",
    "    moneyness = \"ALL\" # ITM, NTM, OTM, SAK, SBK, SNK, ALL\n",
    "    now = dt.datetime.now()\n",
    "    dte_min = int(tickers_db.get(ticker)['dte_min'])\n",
    "    from_date = (now - dt.timedelta(days=dte_min)).strftime(\"%Y-%m-%d\")\n",
    "    to_date = (now + dt.timedelta(days=dte_min+32)).strftime(\"%Y-%m-%d\")\n",
    "    chain_url = f'{tda_base}/v1/marketdata/chains?apikey={tda_api}&symbol={ticker}&contractType={contract_type} \\\n",
    "                &includeQuotes=false&strikeCount={strike_count}&range={moneyness}&fromDate={from_date}&toDate={to_date} \\\n",
    "                &optionType=S'\n",
    "    tda_headers = tda_authenticate()\n",
    "    tda_chain_request = requests.get(chain_url, headers = tda_headers)\n",
    "    if tda_chain_request.status_code != 200:\n",
    "        print(\"Error: TDA status code\")\n",
    "        tda_chain_content = tda_chain_request.content\n",
    "    else:\n",
    "        tda_chain_content = json.loads(tda_chain_request.content)\n",
    "        if tda_chain_content['status'] != 'FAILED':\n",
    "            calls = tda_chain_content['callExpDateMap']\n",
    "            call_exps = list(calls.keys())\n",
    "            call_exp = call_exps[0]\n",
    "            call_strikes = list(calls[call_exp].keys())\n",
    "            call_strikes = list(reversed(call_strikes))\n",
    "            call_strike = 0\n",
    "            i = 0\n",
    "            while i < len(call_strikes):\n",
    "                call = calls[call_exp][call_strikes[i]][0]\n",
    "                call_delta = np.round(abs(float(call['delta'])) * 100)\n",
    "                if call_delta > delta_min:\n",
    "                    # print(call_delta)\n",
    "                    call_strike = call_strikes[i]\n",
    "                    break\n",
    "                i += 1\n",
    "            puts = tda_chain_content['putExpDateMap']\n",
    "            put_exps = list(puts.keys())\n",
    "            put_exp = put_exps[0]\n",
    "            put_strikes = list(puts[put_exp].keys())\n",
    "            put_strike = 0\n",
    "            i = 0\n",
    "            while i < len(put_strikes):\n",
    "                put = puts[put_exp][put_strikes[i]][0]\n",
    "                put_delta = np.round(abs(float(put['delta'])) * 100)\n",
    "                if put_delta > delta_min:\n",
    "                    # print(put_delta)\n",
    "                    put_strike = put_strikes[i]\n",
    "                    break\n",
    "                i += 1\n",
    "            \n",
    "    result = {\n",
    "        \"put\": put['symbol'],\n",
    "        \"call\": call['symbol']\n",
    "    }\n",
    "    return result\n",
    "\n",
    "def tda_submit_order(instruction, quantity, symbol, assetType=\"OPTION\"):\n",
    "    tda_orders_url = '{}/v1/accounts/{}/orders'.format(tda_base, tda_account)\n",
    "    if \"_\" not in symbol:\n",
    "        assetType = \"EQUITY\"\n",
    "        if instruction == \"SELL_TO_OPEN\":\n",
    "            instruction = \"SELL_SHORT\"\n",
    "        elif instruction == \"BUY_TO_CLOSE\":\n",
    "            instruction = \"BUY_TO_COVER\"\n",
    "        elif instruction == \"BUY_TO_OPEN\":\n",
    "            instruction = \"BUY\"\n",
    "        elif instruction == \"SELL_TO_CLOSE\":\n",
    "            instruction = \"SELL\"\n",
    "    data = {\n",
    "        \"orderType\": \"MARKET\",\n",
    "        \"session\": \"NORMAL\",\n",
    "        \"duration\": \"DAY\",\n",
    "        \"orderStrategyType\": \"SINGLE\",\n",
    "        \"orderLegCollection\": [\n",
    "            {\n",
    "            \"instruction\": instruction,\n",
    "            \"quantity\": quantity,\n",
    "            \"instrument\": {\n",
    "                \"symbol\": symbol,\n",
    "                \"assetType\": assetType # EQUITY or OPTION\n",
    "            }\n",
    "            }\n",
    "        ]\n",
    "    }\n",
    "    tda_headers = tda_authenticate()\n",
    "    r = requests.post(tda_orders_url, json=data, headers = tda_headers)\n",
    "    if r.status_code in [200, 201]:\n",
    "        print(f\"{r.status_code}: {r.content}\")\n",
    "        return r.content\n",
    "    else:\n",
    "        print(f\"{r.status_code}: {json.loads(r.content)}\")\n",
    "        return json.loads(r.content)"
   ]
  },
  {
   "cell_type": "markdown",
   "id": "4312d295",
   "metadata": {},
   "source": [
    "# Script"
   ]
  },
  {
   "cell_type": "code",
   "execution_count": 11,
   "id": "3021e453",
   "metadata": {},
   "outputs": [],
   "source": [
    "# This is the main file that executes the automated trades. Everything else is a supporting document.\n",
    "\n",
    "# Import required packages\n",
    "\n",
    "import datetime as dt\n",
    "# from db import *\n",
    "import math\n",
    "import numpy as np\n",
    "import pandas as pd\n",
    "import ta\n",
    "# from tda import *\n",
    "import time"
   ]
  },
  {
   "cell_type": "code",
   "execution_count": 169,
   "id": "bc30f15b",
   "metadata": {},
   "outputs": [],
   "source": [
    "# Global variables\n",
    "\n",
    "log_count = 0"
   ]
  },
  {
   "cell_type": "code",
   "execution_count": 170,
   "id": "dade1ce1",
   "metadata": {},
   "outputs": [],
   "source": [
    "# Define the strategy\n",
    "\n",
    "#def run():\n",
    "\n",
    "    # Execution start\n",
    "\n",
    "time_start = time.time()"
   ]
  },
  {
   "cell_type": "code",
   "execution_count": 171,
   "id": "d71ed90e",
   "metadata": {},
   "outputs": [],
   "source": [
    "# Connect to Deta\n",
    "\n",
    "deta = connect_db()\n",
    "config_db = deta.Base(\"config_db\")\n",
    "tda_account = config_db.get(\"TDA_ACCOUNT\")['value']\n",
    "\n",
    "tickers_db = deta.Base(\"tickers_db\")\n",
    "tickers_info = tickers_db.fetch().items\n",
    "tickers = [item[\"key\"].upper() for item in tickers_info]\n",
    "period_types = [item[\"period_type\"] for item in tickers_info]\n",
    "periods = [item[\"period\"] for item in tickers_info]\n",
    "frequencies = [item[\"frequency\"] for item in tickers_info]\n",
    "frequency_types = [item[\"frequency_type\"] for item in tickers_info]\n",
    "extended_hours = [item[\"extended_hours\"] for item in tickers_info]\n",
    "ema_lengths = [item[\"ema_length\"] for item in tickers_info]\n",
    "hma_lengths = [item[\"hma_length\"] for item in tickers_info]\n",
    "contracts = [item[\"contracts\"] for item in tickers_info]\n",
    "stoplosses = [item[\"stoploss\"] for item in tickers_info]\n",
    "stoploss_pcts = [item[\"stoploss_pct\"] for item in tickers_info]\n",
    "trailing_pcts = [item[\"trailing_pct\"] for item in tickers_info]\n",
    "use_pcts = [item[\"use_pct\"] for item in tickers_info]\n",
    "use_trailings = [item[\"use_trailing\"] for item in tickers_info]"
   ]
  },
  {
   "cell_type": "code",
   "execution_count": 172,
   "id": "251a05c0",
   "metadata": {},
   "outputs": [],
   "source": [
    "# Get market status\n",
    "\n",
    "hours = get_hours_tda()\n",
    "market_open = hours[0]\n",
    "closing_time = hours[1]\n",
    "#current_time = hours[2]"
   ]
  },
  {
   "cell_type": "code",
   "execution_count": 173,
   "id": "a0f8a049",
   "metadata": {},
   "outputs": [],
   "source": [
    "# Examine watchlist\n",
    "\n",
    "lasts, bullish_candles, emas, hmas, bullish_hmas, chains = [], [], [], [], [], []\n",
    "for ticker in tickers:\n",
    "    ticker = \"WBD\""
   ]
  },
  {
   "cell_type": "code",
   "execution_count": 174,
   "id": "537028d3",
   "metadata": {},
   "outputs": [],
   "source": [
    "# Get quotes\n",
    "\n",
    "quote = get_quote_tda(ticker)\n",
    "last = np.round(float(quote[ticker]['lastPrice']), 2)\n",
    "lasts.append(last)"
   ]
  },
  {
   "cell_type": "code",
   "execution_count": 175,
   "id": "a0f9dbb1",
   "metadata": {},
   "outputs": [],
   "source": [
    "# Fetch ticker data settings from Deta\n",
    "\n",
    "idx = tickers.index(ticker)\n",
    "periodType = tickers_info[idx]['period_type']\n",
    "period = int(tickers_info[idx]['period'])\n",
    "frequencyType = tickers_info[idx]['frequency_type']\n",
    "frequency = int(tickers_info[idx]['frequency'])\n",
    "extended_hours = tickers_info[idx]['extended_hours']"
   ]
  },
  {
   "cell_type": "code",
   "execution_count": 176,
   "id": "d44ee252",
   "metadata": {},
   "outputs": [
    {
     "name": "stdout",
     "output_type": "stream",
     "text": [
      "{'open': 0.0, 'high': 0.0, 'low': 0.0, 'close': 0.0, 'volume': 0, 'datetime': 1661425200000}\n"
     ]
    }
   ],
   "source": [
    "# Fetch data from TDA API\n",
    "\n",
    "data = get_data_tda(ticker=ticker, periodType=periodType, period=period, frequencyType=frequencyType, frequency=frequency, extended_hours=extended_hours)\n",
    "tda_opens = [item['open'] for item in data]\n",
    "tda_highs = [item['high'] for item in data]\n",
    "tda_lows = [item['low'] for item in data]\n",
    "tda_closes = [item['close'] for item in data]"
   ]
  },
  {
   "cell_type": "code",
   "execution_count": 177,
   "id": "799f2a32",
   "metadata": {},
   "outputs": [],
   "source": [
    "# Change to Heikin Ashi candles\n",
    "\n",
    "ha_opens = [None] * len(tda_opens)\n",
    "ha_highs = [None] * len(tda_highs)\n",
    "ha_lows = [None] * len(tda_lows)\n",
    "ha_closes = [None] * len(tda_closes)\n",
    "ha_closes[0] = 0.25 * (tda_opens[0] + tda_highs[0] + tda_lows[0] + tda_closes[0])\n",
    "ha_opens[0] = tda_opens[0]\n",
    "ha_highs[0] = max(tda_highs[0], ha_opens[0], ha_closes[0])\n",
    "ha_lows[0] = min(tda_lows[0], ha_opens[0], ha_closes[0])\n",
    "i = 1\n",
    "while i < len(ha_closes):\n",
    "    ha_opens[i] = 0.5 * (ha_opens[i-1] + ha_closes[i-1])\n",
    "    ha_highs[i] = max(tda_highs[i], ha_opens[i], tda_closes[i])\n",
    "    ha_lows[i] = min(tda_lows[i], ha_opens[i], tda_closes[i])\n",
    "    ha_closes[i] = 0.25 * (ha_opens[i] + tda_highs[i] + tda_lows[i] + tda_closes[i])\n",
    "    i += 1\n",
    "tda_opens = ha_opens\n",
    "tda_highs = ha_highs\n",
    "tda_lows = ha_lows\n",
    "tda_closes = ha_closes"
   ]
  },
  {
   "cell_type": "code",
   "execution_count": 178,
   "id": "5022984e",
   "metadata": {},
   "outputs": [],
   "source": [
    "# Bullish or bearish candle\n",
    "\n",
    "if market_open:\n",
    "    last_close = tda_closes[len(tda_closes)-2]\n",
    "    last_open = tda_opens[len(tda_opens)-2]\n",
    "else:\n",
    "    last_close = tda_closes[len(tda_closes)-1]\n",
    "    last_open = tda_opens[len(tda_opens)-1]\n",
    "if last_close > last_open:\n",
    "    bullish_candle = True\n",
    "else:\n",
    "    bullish_candle = False\n",
    "bullish_candles.append(bullish_candle)"
   ]
  },
  {
   "cell_type": "code",
   "execution_count": 193,
   "id": "785254a9",
   "metadata": {},
   "outputs": [],
   "source": [
    "# Create dataframe\n",
    "\n",
    "df = pd.DataFrame()\n",
    "if frequencyType == \"minute\":\n",
    "    time_format = \"%m/%d %H:%M\"\n",
    "elif frequencyType == \"daily\":\n",
    "    time_format = \"%m/%d\"\n",
    "elif frequencyType == \"weekly\":\n",
    "    time_format = \"%m/%d/%Y\"\n",
    "elif frequencyType == \"monthly\":\n",
    "    time_format = \"%b %Y\"\n",
    "tda_times = [candle['datetime'] for candle in data]\n",
    "tda_dates = [dt.datetime.utcfromtimestamp(time_ / 1000) for time_ in tda_times]\n",
    "tda_locals = [utc.localize(date).astimezone(local_timezone) for date in tda_dates]\n",
    "tda_datetimes = [time_.strftime(time_format) for time_ in tda_locals]\n",
    "tda_datetimes = [\"\"] + tda_datetimes\n",
    "tda_opens = [\"\"] + tda_opens\n",
    "tda_highs = [\"\"] + tda_highs\n",
    "tda_lows = [\"\"] + tda_lows\n",
    "tda_closes = [\"\"] + tda_closes\n",
    "df['datetime'] = tda_datetimes\n",
    "df['open'] = tda_opens\n",
    "df['high'] = tda_highs\n",
    "df['low'] = tda_lows\n",
    "df['close'] = tda_closes"
   ]
  },
  {
   "cell_type": "code",
   "execution_count": 194,
   "id": "85e07025",
   "metadata": {},
   "outputs": [],
   "source": [
    "# Calculate indicators\n",
    "\n",
    "ema_window = tickers_info[idx]['ema_length']\n",
    "emas_all = np.round(ta.trend.ema_indicator(pd.to_numeric(df['close']), window=ema_window), 2)\n",
    "ema = emas_all[len(emas_all)-1]\n",
    "emas.append(ema)\n",
    "\n",
    "hma_window = tickers_info[idx]['hma_length']\n",
    "hma1 = ta.trend.wma_indicator(pd.to_numeric(df['close']), window=int(hma_window/2))\n",
    "hma2 = ta.trend.wma_indicator(pd.to_numeric(df['close']), window=hma_window)\n",
    "hma_raw = (2 * hma1) - hma2\n",
    "hmas_all = np.round(ta.trend.wma_indicator(hma_raw, window=math.floor(math.sqrt(hma_window))), 2)\n",
    "hma = hmas_all[len(hmas_all)-1]\n",
    "hmas.append(hma)"
   ]
  },
  {
   "cell_type": "code",
   "execution_count": 195,
   "id": "9c18ff52",
   "metadata": {},
   "outputs": [],
   "source": [
    "# Bullish or bearish HMA\n",
    "\n",
    "if market_open:\n",
    "    last_hma = hmas_all[len(hmas_all)-2]\n",
    "    last_hma1 = hmas_all[len(hmas_all)-3]\n",
    "else:\n",
    "    last_hma = hmas_all[len(hmas_all)-1]\n",
    "    last_hma1 = hmas_all[len(hmas_all)-1]\n",
    "if last_hma > last_hma1:\n",
    "    bullish_hma = True\n",
    "else:\n",
    "    bullish_hma = False\n",
    "bullish_hmas.append(bullish_hma)"
   ]
  },
  {
   "cell_type": "code",
   "execution_count": 196,
   "id": "1ef86d53",
   "metadata": {},
   "outputs": [
    {
     "name": "stdout",
     "output_type": "stream",
     "text": [
      "95.0\n",
      "94.0\n"
     ]
    }
   ],
   "source": [
    "# Get option symbols\n",
    "\n",
    "chain = get_chain_tda(ticker)\n",
    "chains.append(chain)"
   ]
  },
  {
   "cell_type": "code",
   "execution_count": 197,
   "id": "922802a7",
   "metadata": {},
   "outputs": [],
   "source": [
    "# Get positions\n",
    "\n",
    "tda_positions = get_positions_tda()\n",
    "if tda_positions != []:\n",
    "    tda_tickers_held = [position['instrument']['symbol'] for position in tda_positions]\n",
    "    tda_average_prices = [np.round(float(position['averagePrice']),2) for position in tda_positions]\n",
    "    tda_market_values = [np.round(float(position['marketValue']),2) for position in tda_positions]\n",
    "    tda_long_shares = [int(position['longQuantity']) for position in tda_positions]\n",
    "    tda_short_shares = [int(position['shortQuantity']) for position in tda_positions]\n",
    "    tda_quantities = list(np.array(tda_long_shares) - np.array(tda_short_shares))\n",
    "else:\n",
    "    tda_tickers_held = []\n",
    "    tda_average_prices = []\n",
    "    tda_market_values = []\n",
    "    tda_long_shares = []\n",
    "    tda_short_shares = []\n",
    "    tda_quantities = []"
   ]
  },
  {
   "cell_type": "code",
   "execution_count": 198,
   "id": "6acd5cf3",
   "metadata": {},
   "outputs": [],
   "source": [
    "# Adjust tickers for optional holdings\n",
    "\n",
    "tda_symbols_held = []\n",
    "for ticker in tda_tickers_held:\n",
    "    symb = ticker\n",
    "    if \"_\" in ticker:\n",
    "        symb = ticker.split(\"_\")[0]\n",
    "    tda_symbols_held.append(symb)\n",
    "held_symbol_dict = dict(zip(tda_symbols_held, tda_tickers_held))"
   ]
  },
  {
   "cell_type": "code",
   "execution_count": 199,
   "id": "7fcc7106",
   "metadata": {},
   "outputs": [],
   "source": [
    "# Calculate gainloss from quotes and average prices\n",
    "\n",
    "tda_gainlosses, tda_costbases, tda_gainloss_pcts = [], [], []\n",
    "for ticker in tickers:\n",
    "    if ticker in tda_symbols_held:\n",
    "        idx = tda_symbols_held.index(ticker)\n",
    "        if tda_long_shares[idx] > 0:\n",
    "            tda_costbasis = np.round(tda_average_prices[idx] * tda_long_shares[idx], 2)\n",
    "            tda_gainloss = np.round(tda_market_values[idx] - (tda_average_prices[idx] * tda_long_shares[idx]), 2)\n",
    "            tda_gainloss_pct = np.round(tda_gainloss / tda_costbasis * 100, 2)\n",
    "        elif tda_short_shares[idx] > 0:\n",
    "            tda_costbasis = np.round(tda_average_prices[idx] * tda_short_shares[idx], 2)\n",
    "            tda_gainloss = np.round(abs(tda_average_prices[idx] * tda_short_shares[idx]) - abs(tda_market_values[idx]), 2)\n",
    "            tda_gainloss_pct = np.round(tda_gainloss / tda_costbasis * 100, 2)\n",
    "        else:\n",
    "            tda_costbasis = 0\n",
    "            tda_gainloss = 0\n",
    "            tda_gainloss_pct = 0\n",
    "    else:\n",
    "        tda_costbasis = 0\n",
    "        tda_gainloss = 0\n",
    "        tda_gainloss_pct = 0\n",
    "    tda_gainlosses.append(tda_gainloss)\n",
    "    tda_costbases.append(tda_costbasis)\n",
    "    tda_gainloss_pcts.append(tda_gainloss_pct)"
   ]
  },
  {
   "cell_type": "code",
   "execution_count": 200,
   "id": "c75581c0",
   "metadata": {},
   "outputs": [],
   "source": [
    "# Map watchlist data to positions data\n",
    "\n",
    "ticker_quantity_dict = dict(zip(tda_tickers_held, tda_quantities))\n",
    "ticker_gainloss_dict = dict(zip(tickers, tda_gainlosses))\n",
    "ticker_gainloss_pct_dict = dict(zip(tickers, tda_gainloss_pcts))\n",
    "stoploss_dict, stoploss_pct_dict, trailing_pct_dict, use_pct_dict, use_trailing_dict = {}, {}, {}, {}, {}\n",
    "for i in range(len(tickers)):\n",
    "    if tickers[i] in tda_symbols_held:\n",
    "        idx = tda_symbols_held.index(tickers[i])\n",
    "        # costbasis = tda_costbases[idx]\n",
    "        stoploss = tickers_db[idx]['stoploss']\n",
    "        stoploss_pct = tickers_db[idx]['stoploss_pct']\n",
    "        trailing_pct = tickers_db[idx]['trailing_pct']\n",
    "        use_pct = tickers_db[idx]['use_pct']\n",
    "        use_trailing = tickers_db[idx]['use_trailing']\n",
    "        # max_loss_adj = np.round(costbasis * max_loss / 100, 2)\n",
    "        stoploss_dict[tickers[i]] = stoploss\n",
    "        stoploss_pct_dict[tickers[i]] = stoploss_pct\n",
    "        trailing_pct_dict[tickers[i]] = trailing_pct\n",
    "        use_pct_dict[tickers[i]] = use_pct\n",
    "        use_trailing_dict[tickers[i]] = use_trailing"
   ]
  },
  {
   "cell_type": "code",
   "execution_count": 201,
   "id": "59cf7def",
   "metadata": {},
   "outputs": [],
   "source": [
    "# Make entry trades\n",
    "\n",
    "current_time = dt.datetime.now(tz=local_timezone)\n",
    "minutes_until_close = np.round((closing_time - current_time).total_seconds() / 60, 2)\n",
    "wl_tickers_held = list(set(tickers).intersection(tda_symbols_held))\n",
    "ticker_long_dict = dict(zip(tda_tickers_held, tda_long_shares))\n",
    "ticker_short_dict = dict(zip(tda_tickers_held, tda_short_shares))\n",
    "ticker_gainloss_dict = dict(zip(tickers, tda_gainlosses))"
   ]
  },
  {
   "cell_type": "code",
   "execution_count": 202,
   "id": "596ad18e",
   "metadata": {},
   "outputs": [],
   "source": [
    "# Entry order\n",
    "\n",
    "for i in range(len(bullish_candles)):\n",
    "    # condition1 = market_open\n",
    "    condition1 = 0 < minutes_until_close < 450\n",
    "    condition2 = tickers[i] not in tda_symbols_held\n",
    "    condition3 = bullish_candles[i]\n",
    "    condition4 = bullish_hmas[i]\n",
    "    bullish_entry = condition1 and condition2 and condition3 and condition4\n",
    "    bearish_entry = condition1 and condition2 and not condition3 and not condition4\n",
    "    if bullish_entry:\n",
    "        entry_symbol = chains[i]['call']\n",
    "        # entry_order = tda_submit_order(\"BUY_TO_OPEN\", contracts[i], entry_symbol)\n",
    "        print(f\"Bullish entry: Buying {contracts[i]} contracts of {entry_symbol}\")\n",
    "    if bearish_entry:\n",
    "        entry_symbol = chains[i]['put']\n",
    "        # entry_order = tda_submit_order(\"BUY_TO_OPEN\", contracts[i], entry_symbol)\n",
    "        print(f\"Bearish entry: Buying {contracts[i]} contracts of {entry_symbol}\")"
   ]
  },
  {
   "cell_type": "code",
   "execution_count": 203,
   "id": "70ff1b01",
   "metadata": {},
   "outputs": [],
   "source": [
    "# Exit order\n",
    "\n",
    "for i in range(len(bullish_candles)):\n",
    "    # condition1 = market_open\n",
    "    condition1 = 0 < minutes_until_close < 450\n",
    "    condition2 = tickers[i] in tda_symbols_held\n",
    "    if condition2:\n",
    "        if use_pcts[i]:\n",
    "            pct_limit = np.negative(stoploss_pct_dict[tickers[i]])\n",
    "            pct_real = ticker_gainloss_pct_dict[tickers[i]]\n",
    "            condition3 = pct_limit > pct_real\n",
    "        else:\n",
    "            stop_limit = np.negative(stoploss_dict[tickers[i]])\n",
    "            stop_real = ticker_gainloss_dict[tickers[i]]\n",
    "            condition3 = stop_limit > stop_real\n",
    "        exit_symbol = held_symbol_dict[tickers[i]]\n",
    "        exit_quantity = ticker_quantity_dict[tickers[i]]\n",
    "        stoploss_exit = condition1 and condition2 and condition3\n",
    "        condition4 = \"C\" in exit_symbol.split(\"_\")[1]\n",
    "        condition5 = bullish_candles[i]\n",
    "        call_exit = condition1 and condition2 and condition4 and not condition5\n",
    "        put_exit = condition1 and condition2 and not condition4 and condition5\n",
    "        if stoploss_exit or call_exit or put_exit:\n",
    "            # time.sleep(5)\n",
    "            # exit_order = tda_submit_order(\"SELL_TO_CLOSE\", exit_quantity, exit_symbol)\n",
    "            exit_log = f\"Closing out {exit_quantity} contracts of {exit_symbol} due to\"\n",
    "            if stoploss_exit:\n",
    "                exit_log = exit_log + f\" stop loss {stop_limit} > {stop_real}\"\n",
    "            elif call_exit:\n",
    "                exit_log = exit_log + f\" bearish candle while holding call\"\n",
    "            elif put_exit:\n",
    "                exit_log = exit_log + f\" bullish candle while holding put\"\n",
    "            print(exit_log)"
   ]
  },
  {
   "cell_type": "code",
   "execution_count": 204,
   "id": "64788477",
   "metadata": {},
   "outputs": [
    {
     "name": "stdout",
     "output_type": "stream",
     "text": [
      "Time                 = 2022-08-26 02:46:31\n",
      "Market open          = True             \n",
      "Held Tickers         = ['None']         \n",
      "Long shares          = [0]              \n",
      "Short shares         = [0]              \n",
      "Quantities Held      = [0]              \n",
      "Average prices       = [0.0]            \n",
      "Market values        = [0.0]            \n",
      "Number Tickers       = 6                \n",
      "Tickers              = ['CCL', 'F', 'HOOD', 'SNAP', 'SWN', 'WBD']\n",
      "Contracts            = [1, 1, 1, 1, 1, 1]\n",
      "Stoplosses           = [1000, 1000, 1000, 1000, 1000, 1000]\n",
      "Stoploss pcts        = [10, 10, 10, 10, 10, 10]\n",
      "Trailing pcts        = [10, 10, 10, 10, 10, 10]\n",
      "Use pct?             = [False, False, False, False, False, False]\n",
      "Use trailing?        = [False, False, False, False, False, False]\n",
      "Period types         = ['day', 'day', 'day', 'day', 'day', 'day']\n",
      "Periods              = [10, 10, 10, 10, 10, 10]\n",
      "Frequency types      = ['minute', 'minute', 'minute', 'minute', 'minute', 'minute']\n",
      "Frequencies          = [30, 30, 30, 30, 30, 30]\n",
      "EMA lengths          = [10, 10, 10, 10, 10, 10]\n",
      "HMA lengths          = [7, 7, 7, 7, 7, 7]\n",
      "EMAs                 = [13.46, 13.46]   \n",
      "HMAs                 = [13.43, 13.43]   \n",
      "Extended hours       = False            \n",
      "Lasts                = [13.51]          \n",
      "Bullish Candles      = [False]          \n",
      "Bullish Candles      = [False, False]   \n",
      "Execution Speed      = 399.35 seconds   \n",
      "---------------     ---------------     \n"
     ]
    }
   ],
   "source": [
    "# Print log\n",
    "\n",
    "now = dt.datetime.now(tz=local_timezone).strftime(\"%Y-%m-%d %X\")\n",
    "time_end = time.time()\n",
    "time_total = np.round(time_end - time_start, 2)\n",
    "# global log_count\n",
    "log_count += 1\n",
    "if log_count % 1 == 0:\n",
    "    print_log = [\n",
    "        [\"Time\", f\" = {now}\"],\n",
    "        [\"Market open\", f\" = {market_open}\"],\n",
    "        [\"Held Tickers\", f\" = {tda_tickers_held}\"],\n",
    "        [\"Long shares\",f\" = {tda_long_shares}\"],\n",
    "        [\"Short shares\",f\" = {tda_short_shares}\"],\n",
    "        [\"Quantities Held\",f\" = {tda_quantities}\"],\n",
    "        [\"Average prices\",f\" = {tda_average_prices}\"],\n",
    "        [\"Market values\",f\" = {tda_market_values}\"],\n",
    "        [\"Number Tickers\", f\" = {len(tickers)}\"],\n",
    "        [\"Tickers\",f\" = {tickers}\"],\n",
    "        [\"Contracts\",f\" = {contracts}\"],\n",
    "        [\"Stoplosses\",f\" = {stoplosses}\"],\n",
    "        [\"Stoploss pcts\",f\" = {stoploss_pcts}\"],\n",
    "        [\"Trailing pcts\",f\" = {trailing_pcts}\"],\n",
    "        [\"Use pct?\",f\" = {use_pcts}\"],\n",
    "        [\"Use trailing?\",f\" = {use_trailings}\"],\n",
    "        [\"Period types\",f\" = {period_types}\"],\n",
    "        [\"Periods\",f\" = {periods}\"],\n",
    "        [\"Frequency types\",f\" = {frequency_types}\"],\n",
    "        [\"Frequencies\",f\" = {frequencies}\"],\n",
    "        [\"EMA lengths\",f\" = {ema_lengths}\"],\n",
    "        [\"HMA lengths\",f\" = {hma_lengths}\"],\n",
    "        [\"EMAs\",f\" = {emas}\"],\n",
    "        [\"HMAs\",f\" = {hmas}\"],\n",
    "        [\"Extended hours\",f\" = {extended_hours}\"],\n",
    "        [\"Lasts\",f\" = {lasts}\"],\n",
    "        [\"Bullish Candles\",f\" = {bullish_candles}\"],\n",
    "        [\"Bullish Candles\",f\" = {bullish_hmas}\"],\n",
    "        [\"Execution Speed\",f\" = {time_total} seconds\"],\n",
    "        [\"---------------\", \"---------------\"]\n",
    "    ]\n",
    "else:\n",
    "    print_log = [\n",
    "        [\"No\",\" log\"],\n",
    "        [\"---------------\", \"---------------\"]\n",
    "    ]\n",
    "\n",
    "for item_list in print_log:\n",
    "    for i in item_list:\n",
    "        print(i.ljust(20), end='')\n",
    "    print()"
   ]
  },
  {
   "cell_type": "code",
   "execution_count": 205,
   "id": "22657514",
   "metadata": {},
   "outputs": [
    {
     "data": {
      "application/vnd.plotly.v1+json": {
       "config": {
        "plotlyServerURL": "https://plot.ly"
       },
       "data": [
        {
         "close": [
          "",
          13.445,
          13.39685,
          13.435143749999998,
          13.500202343749999,
          13.53285146484375,
          13.490982165527344,
          13.46317635345459,
          13.38988522090912,
          13.315953263068199,
          13.287583289417624,
          13.221614555886013,
          13.19913409742876,
          13.157783810892974,
          13.09692738180811,
          13.004342113630067,
          12.953963821018792,
          12.993727388136746,
          13.083579617585468,
          13.304737260990915,
          13.537335788119323,
          13.693959867574579,
          13.72122491723411,
          13.70124057327132,
          13.610537858294576,
          13.614086161434109,
          13.650053850896319,
          13.4169086568102,
          13.465567910506374,
          13.390354944066484,
          13.295846840041552,
          13.198654275025971,
          13.194783921891233,
          13.208864951182019,
          13.217290594488762,
          13.215231621555477,
          13.276594763472174,
          13.224321727170109,
          13.200201079481317,
          13.222000674675824,
          13.052500421672391,
          13.005312763545243,
          12.995395477215776,
          13.019522173259862,
          13.016576358287413,
          13.003135223929634,
          12.990572014956022,
          12.999107509347514,
          13.019867193342197,
          13.025016995838872,
          13.055635622399297,
          13.10914726399956,
          13.150717039999726,
          13.237948149999827,
          13.459967593749893,
          13.531854746093682,
          13.501159216308551,
          13.553224510192845,
          13.534515318870527,
          13.548647074294081,
          13.6037419214338,
          13.619838700896125,
          13.617399188060078,
          13.618999492537549,
          13.630624682835967,
          13.67539042677248,
          13.4008690167328,
          13.251168135458,
          13.204480084661249,
          13.18405005291328,
          13.176281283070802,
          13.125800801919251,
          13.09487550119953,
          13.071484688249708,
          12.984402930156065,
          12.91750183134754,
          12.893438644592214,
          12.812949152870132,
          12.768218220543833,
          12.894636387839896,
          12.898272742399934,
          12.86454546399996,
          12.897840914999975,
          12.887400571874984,
          12.925250357421865,
          12.910156473388664,
          12.884472795867914,
          12.891495497417448,
          12.859709685885905,
          12.83544355367869,
          12.800277221049182,
          12.789548263155737,
          12.961342664472337,
          13.106051665295212,
          13.215144790809507,
          13.38596549425594,
          13.431415933909964,
          13.363384958693729,
          13.312740599183579,
          13.264212874489736,
          13.247008046556084,
          13.268880029097552,
          13.313925018185971,
          13.378078136366232,
          13.445048835228894,
          13.485030522018059,
          13.526894076261287,
          13.521808797663304,
          13.470505498539564,
          13.489065936587227,
          13.494416210367019,
          13.475260131479388,
          13.497562582174616,
          13.508839113859135,
          13.48239944616196,
          13.435249653851224,
          13.414556033657014,
          13.494710021035635,
          " "
         ],
         "high": [
          "",
          13.62,
          13.4825,
          13.4809,
          13.61,
          13.63,
          13.5381,
          13.49590541381836,
          13.479540883636474,
          13.434713052272798,
          13.375333157670498,
          13.331458223544061,
          13.276536389715037,
          13.237835243571897,
          13.2399,
          13.147368454520272,
          13.07585528407517,
          13.05,
          13.17,
          13.53,
          13.77,
          13.88,
          13.875,
          13.7869,
          13.72,
          13.67,
          13.7,
          13.637634627240796,
          13.54,
          13.51,
          13.44338736016621,
          13.36961710010388,
          13.284135687564927,
          13.23945980472808,
          13.24,
          13.24,
          13.35,
          13.38,
          13.25,
          13.27,
          13.22000168668956,
          13.136251054180976,
          13.07078190886311,
          13.07,
          13.055,
          13.04,
          13.012288059824083,
          13.02,
          13.05,
          13.05,
          13.1,
          13.16,
          13.2,
          13.47,
          13.645,
          13.72,
          13.57,
          13.65,
          13.62,
          13.61,
          13.67,
          13.69,
          13.65,
          13.68,
          13.67,
          13.75,
          13.6484760669312,
          13.524672541832,
          13.387920338645,
          13.296200211653124,
          13.240125132283202,
          13.208203207677002,
          13.167002004798126,
          13.130938752998828,
          13.101211720624267,
          13.042807325390166,
          12.980154578368854,
          12.936796611480535,
          12.874872882175334,
          13.15,
          12.995,
          12.98,
          12.995,
          12.95,
          13.01,
          13,
          12.91,
          12.95,
          12.893838743543618,
          12.87677421471476,
          12.856108884196725,
          12.828193052622954,
          13.1565,
          13.2691,
          13.34,
          13.59,
          13.59,
          13.46,
          13.37,
          13.331851497958949,
          13.298032186224344,
          13.32,
          13.36,
          13.45,
          13.54,
          13.64,
          13.66,
          13.59,
          13.55,
          13.54,
          13.54,
          13.5,
          13.5271,
          13.545,
          13.53,
          13.490998615404898,
          13.46312413462806,
          13.58,
          " "
         ],
         "low": [
          "",
          13.205,
          13.265,
          13.37,
          13.437409375,
          13.468805859375,
          13.455,
          13.41,
          13.3,
          13.23,
          13.21,
          13.14,
          13.13,
          13.0633,
          12.96,
          12.91,
          12.82,
          12.87,
          13,
          13.043949043963666,
          13.174343152477292,
          13.355839470298307,
          13.524899668936442,
          13.623062293085276,
          13.5,
          13.51,
          13.595,
          13.17,
          13.31,
          13.275,
          13.19,
          13.05,
          13.11,
          13.17,
          13.18,
          13.19,
          13.2036,
          13.06,
          13.14,
          13.15,
          12.86,
          12.87,
          12.93,
          12.93,
          12.99,
          12.965,
          12.96,
          12.97,
          13,
          13.005,
          13.015,
          13.036589055998238,
          13.0728681599989,
          12.97,
          13.17487037499957,
          13.317418984374731,
          13.424636865234206,
          13.462898040771378,
          13.495,
          13.505,
          13.5349676857352,
          13.569354803584499,
          13.59,
          13.59,
          13.575,
          13.61,
          13.16,
          13.06,
          13.09,
          13.08,
          13.11,
          13.04,
          13.04,
          13.005,
          12.91,
          12.83,
          12.83,
          12.72,
          12.69,
          12.702,
          12.855,
          12.8,
          12.795,
          12.83,
          12.83,
          12.84,
          12.825,
          12.84,
          12.82,
          12.79,
          12.75,
          12.72,
          12.79,
          12.885106661180842,
          12.995579163238027,
          13.105361977023767,
          13.245663735639853,
          13.3,
          13.24,
          13.2,
          13.18,
          13.183,
          13.270700072743884,
          13.292312545464927,
          13.335195340915579,
          13.345,
          13.437576305045148,
          13.47,
          13.4,
          13.4,
          13.46,
          13.43,
          13.47,
          13.475,
          13.42,
          13.375,
          13.34,
          13.39,
          " "
         ],
         "name": "Candles",
         "open": [
          "",
          13.52,
          13.4825,
          13.439675000000001,
          13.437409375,
          13.468805859375,
          13.500828662109374,
          13.49590541381836,
          13.479540883636474,
          13.434713052272798,
          13.375333157670498,
          13.331458223544061,
          13.276536389715037,
          13.237835243571897,
          13.197809527232437,
          13.147368454520272,
          13.07585528407517,
          13.014909552546982,
          13.004318470341865,
          13.043949043963666,
          13.174343152477292,
          13.355839470298307,
          13.524899668936442,
          13.623062293085276,
          13.662151433178298,
          13.636344645736436,
          13.625215403585273,
          13.637634627240796,
          13.527271642025498,
          13.496419776265936,
          13.44338736016621,
          13.36961710010388,
          13.284135687564927,
          13.23945980472808,
          13.22416237795505,
          13.220726486221906,
          13.21797905388869,
          13.247286908680433,
          13.235804317925272,
          13.218002698703295,
          13.22000168668956,
          13.136251054180976,
          13.07078190886311,
          13.033088693039442,
          13.026305433149652,
          13.021440895718532,
          13.012288059824083,
          13.001430037390053,
          13.000268773368784,
          13.01006798335549,
          13.017542489597181,
          13.036589055998238,
          13.0728681599989,
          13.111792599999312,
          13.17487037499957,
          13.317418984374731,
          13.424636865234206,
          13.462898040771378,
          13.508061275482111,
          13.52128829717632,
          13.5349676857352,
          13.569354803584499,
          13.594596752240312,
          13.605997970150195,
          13.612498731343873,
          13.62156170708992,
          13.6484760669312,
          13.524672541832,
          13.387920338645,
          13.296200211653124,
          13.240125132283202,
          13.208203207677002,
          13.167002004798126,
          13.130938752998828,
          13.101211720624267,
          13.042807325390166,
          12.980154578368854,
          12.936796611480535,
          12.874872882175334,
          12.821545551359584,
          12.85809096959974,
          12.878181855999838,
          12.871363659999899,
          12.884602287499938,
          12.886001429687461,
          12.905625893554664,
          12.907891183471664,
          12.896181989669788,
          12.893838743543618,
          12.87677421471476,
          12.856108884196725,
          12.828193052622954,
          12.808870657889345,
          12.885106661180842,
          12.995579163238027,
          13.105361977023767,
          13.245663735639853,
          13.33853983477491,
          13.35096239673432,
          13.331851497958949,
          13.298032186224344,
          13.272520116390215,
          13.270700072743884,
          13.292312545464927,
          13.335195340915579,
          13.390122088072236,
          13.437576305045148,
          13.482235190653217,
          13.50202199415826,
          13.486263746348913,
          13.48766484146807,
          13.491040525917544,
          13.483150328698466,
          13.49035645543654,
          13.499597784647838,
          13.490998615404898,
          13.46312413462806,
          13.438840084142537,
          " "
         ],
         "type": "candlestick",
         "x": [
          "",
          "08/15 06:30",
          "08/15 07:00",
          "08/15 07:30",
          "08/15 08:00",
          "08/15 08:30",
          "08/15 09:00",
          "08/15 09:30",
          "08/15 10:00",
          "08/15 10:30",
          "08/15 11:00",
          "08/15 11:30",
          "08/15 12:00",
          "08/15 12:30",
          "08/16 06:30",
          "08/16 07:00",
          "08/16 07:30",
          "08/16 08:00",
          "08/16 08:30",
          "08/16 09:00",
          "08/16 09:30",
          "08/16 10:00",
          "08/16 10:30",
          "08/16 11:00",
          "08/16 11:30",
          "08/16 12:00",
          "08/16 12:30",
          "08/17 06:30",
          "08/17 07:00",
          "08/17 07:30",
          "08/17 08:00",
          "08/17 08:30",
          "08/17 09:00",
          "08/17 09:30",
          "08/17 10:00",
          "08/17 10:30",
          "08/17 11:00",
          "08/17 11:30",
          "08/17 12:00",
          "08/17 12:30",
          "08/18 06:30",
          "08/18 07:00",
          "08/18 07:30",
          "08/18 08:00",
          "08/18 08:30",
          "08/18 09:00",
          "08/18 09:30",
          "08/18 10:00",
          "08/18 10:30",
          "08/18 11:00",
          "08/18 11:30",
          "08/18 12:00",
          "08/18 12:30",
          "08/19 06:30",
          "08/19 07:00",
          "08/19 07:30",
          "08/19 08:00",
          "08/19 08:30",
          "08/19 09:00",
          "08/19 09:30",
          "08/19 10:00",
          "08/19 10:30",
          "08/19 11:00",
          "08/19 11:30",
          "08/19 12:00",
          "08/19 12:30",
          "08/22 06:30",
          "08/22 07:00",
          "08/22 07:30",
          "08/22 08:00",
          "08/22 08:30",
          "08/22 09:00",
          "08/22 09:30",
          "08/22 10:00",
          "08/22 10:30",
          "08/22 11:00",
          "08/22 11:30",
          "08/22 12:00",
          "08/22 12:30",
          "08/23 06:30",
          "08/23 07:00",
          "08/23 07:30",
          "08/23 08:00",
          "08/23 08:30",
          "08/23 09:00",
          "08/23 09:30",
          "08/23 10:00",
          "08/23 10:30",
          "08/23 11:00",
          "08/23 11:30",
          "08/23 12:00",
          "08/23 12:30",
          "08/24 06:30",
          "08/24 07:00",
          "08/24 07:30",
          "08/24 08:00",
          "08/24 08:30",
          "08/24 09:00",
          "08/24 09:30",
          "08/24 10:00",
          "08/24 10:30",
          "08/24 11:00",
          "08/24 11:30",
          "08/24 12:00",
          "08/24 12:30",
          "08/25 06:30",
          "08/25 07:00",
          "08/25 07:30",
          "08/25 08:00",
          "08/25 08:30",
          "08/25 09:00",
          "08/25 09:30",
          "08/25 10:00",
          "08/25 10:30",
          "08/25 11:00",
          "08/25 11:30",
          "08/25 12:00",
          "08/25 12:30",
          " "
         ]
        },
        {
         "line": {
          "color": "blue",
          "width": 1.5
         },
         "name": "EMA 10",
         "type": "scatter",
         "x": [
          "",
          "08/15 06:30",
          "08/15 07:00",
          "08/15 07:30",
          "08/15 08:00",
          "08/15 08:30",
          "08/15 09:00",
          "08/15 09:30",
          "08/15 10:00",
          "08/15 10:30",
          "08/15 11:00",
          "08/15 11:30",
          "08/15 12:00",
          "08/15 12:30",
          "08/16 06:30",
          "08/16 07:00",
          "08/16 07:30",
          "08/16 08:00",
          "08/16 08:30",
          "08/16 09:00",
          "08/16 09:30",
          "08/16 10:00",
          "08/16 10:30",
          "08/16 11:00",
          "08/16 11:30",
          "08/16 12:00",
          "08/16 12:30",
          "08/17 06:30",
          "08/17 07:00",
          "08/17 07:30",
          "08/17 08:00",
          "08/17 08:30",
          "08/17 09:00",
          "08/17 09:30",
          "08/17 10:00",
          "08/17 10:30",
          "08/17 11:00",
          "08/17 11:30",
          "08/17 12:00",
          "08/17 12:30",
          "08/18 06:30",
          "08/18 07:00",
          "08/18 07:30",
          "08/18 08:00",
          "08/18 08:30",
          "08/18 09:00",
          "08/18 09:30",
          "08/18 10:00",
          "08/18 10:30",
          "08/18 11:00",
          "08/18 11:30",
          "08/18 12:00",
          "08/18 12:30",
          "08/19 06:30",
          "08/19 07:00",
          "08/19 07:30",
          "08/19 08:00",
          "08/19 08:30",
          "08/19 09:00",
          "08/19 09:30",
          "08/19 10:00",
          "08/19 10:30",
          "08/19 11:00",
          "08/19 11:30",
          "08/19 12:00",
          "08/19 12:30",
          "08/22 06:30",
          "08/22 07:00",
          "08/22 07:30",
          "08/22 08:00",
          "08/22 08:30",
          "08/22 09:00",
          "08/22 09:30",
          "08/22 10:00",
          "08/22 10:30",
          "08/22 11:00",
          "08/22 11:30",
          "08/22 12:00",
          "08/22 12:30",
          "08/23 06:30",
          "08/23 07:00",
          "08/23 07:30",
          "08/23 08:00",
          "08/23 08:30",
          "08/23 09:00",
          "08/23 09:30",
          "08/23 10:00",
          "08/23 10:30",
          "08/23 11:00",
          "08/23 11:30",
          "08/23 12:00",
          "08/23 12:30",
          "08/24 06:30",
          "08/24 07:00",
          "08/24 07:30",
          "08/24 08:00",
          "08/24 08:30",
          "08/24 09:00",
          "08/24 09:30",
          "08/24 10:00",
          "08/24 10:30",
          "08/24 11:00",
          "08/24 11:30",
          "08/24 12:00",
          "08/24 12:30",
          "08/25 06:30",
          "08/25 07:00",
          "08/25 07:30",
          "08/25 08:00",
          "08/25 08:30",
          "08/25 09:00",
          "08/25 09:30",
          "08/25 10:00",
          "08/25 10:30",
          "08/25 11:00",
          "08/25 11:30",
          "08/25 12:00",
          "08/25 12:30"
         ],
         "y": [
          null,
          null,
          null,
          null,
          null,
          null,
          null,
          null,
          null,
          null,
          13.4,
          13.37,
          13.34,
          13.31,
          13.27,
          13.22,
          13.17,
          13.14,
          13.13,
          13.16,
          13.23,
          13.31,
          13.39,
          13.44,
          13.48,
          13.5,
          13.53,
          13.51,
          13.5,
          13.48,
          13.45,
          13.4,
          13.36,
          13.34,
          13.31,
          13.3,
          13.29,
          13.28,
          13.27,
          13.26,
          13.22,
          13.18,
          13.15,
          13.12,
          13.1,
          13.09,
          13.07,
          13.06,
          13.05,
          13.05,
          13.05,
          13.06,
          13.08,
          13.1,
          13.17,
          13.24,
          13.28,
          13.33,
          13.37,
          13.4,
          13.44,
          13.47,
          13.5,
          13.52,
          13.54,
          13.56,
          13.53,
          13.48,
          13.43,
          13.39,
          13.35,
          13.31,
          13.27,
          13.23,
          13.19,
          13.14,
          13.09,
          13.04,
          12.99,
          12.98,
          12.96,
          12.94,
          12.94,
          12.93,
          12.93,
          12.92,
          12.92,
          12.91,
          12.9,
          12.89,
          12.87,
          12.86,
          12.88,
          12.92,
          12.97,
          13.05,
          13.12,
          13.16,
          13.19,
          13.2,
          13.21,
          13.22,
          13.24,
          13.26,
          13.3,
          13.33,
          13.37,
          13.39,
          13.41,
          13.42,
          13.44,
          13.44,
          13.45,
          13.46,
          13.47,
          13.46,
          13.45,
          13.46
         ]
        },
        {
         "line": {
          "color": "purple",
          "width": 1.5
         },
         "name": "HMA 7",
         "type": "scatter",
         "x": [
          "",
          "08/15 06:30",
          "08/15 07:00",
          "08/15 07:30",
          "08/15 08:00",
          "08/15 08:30",
          "08/15 09:00",
          "08/15 09:30",
          "08/15 10:00",
          "08/15 10:30",
          "08/15 11:00",
          "08/15 11:30",
          "08/15 12:00",
          "08/15 12:30",
          "08/16 06:30",
          "08/16 07:00",
          "08/16 07:30",
          "08/16 08:00",
          "08/16 08:30",
          "08/16 09:00",
          "08/16 09:30",
          "08/16 10:00",
          "08/16 10:30",
          "08/16 11:00",
          "08/16 11:30",
          "08/16 12:00",
          "08/16 12:30",
          "08/17 06:30",
          "08/17 07:00",
          "08/17 07:30",
          "08/17 08:00",
          "08/17 08:30",
          "08/17 09:00",
          "08/17 09:30",
          "08/17 10:00",
          "08/17 10:30",
          "08/17 11:00",
          "08/17 11:30",
          "08/17 12:00",
          "08/17 12:30",
          "08/18 06:30",
          "08/18 07:00",
          "08/18 07:30",
          "08/18 08:00",
          "08/18 08:30",
          "08/18 09:00",
          "08/18 09:30",
          "08/18 10:00",
          "08/18 10:30",
          "08/18 11:00",
          "08/18 11:30",
          "08/18 12:00",
          "08/18 12:30",
          "08/19 06:30",
          "08/19 07:00",
          "08/19 07:30",
          "08/19 08:00",
          "08/19 08:30",
          "08/19 09:00",
          "08/19 09:30",
          "08/19 10:00",
          "08/19 10:30",
          "08/19 11:00",
          "08/19 11:30",
          "08/19 12:00",
          "08/19 12:30",
          "08/22 06:30",
          "08/22 07:00",
          "08/22 07:30",
          "08/22 08:00",
          "08/22 08:30",
          "08/22 09:00",
          "08/22 09:30",
          "08/22 10:00",
          "08/22 10:30",
          "08/22 11:00",
          "08/22 11:30",
          "08/22 12:00",
          "08/22 12:30",
          "08/23 06:30",
          "08/23 07:00",
          "08/23 07:30",
          "08/23 08:00",
          "08/23 08:30",
          "08/23 09:00",
          "08/23 09:30",
          "08/23 10:00",
          "08/23 10:30",
          "08/23 11:00",
          "08/23 11:30",
          "08/23 12:00",
          "08/23 12:30",
          "08/24 06:30",
          "08/24 07:00",
          "08/24 07:30",
          "08/24 08:00",
          "08/24 08:30",
          "08/24 09:00",
          "08/24 09:30",
          "08/24 10:00",
          "08/24 10:30",
          "08/24 11:00",
          "08/24 11:30",
          "08/24 12:00",
          "08/24 12:30",
          "08/25 06:30",
          "08/25 07:00",
          "08/25 07:30",
          "08/25 08:00",
          "08/25 08:30",
          "08/25 09:00",
          "08/25 09:30",
          "08/25 10:00",
          "08/25 10:30",
          "08/25 11:00",
          "08/25 11:30",
          "08/25 12:00",
          "08/25 12:30"
         ],
         "y": [
          null,
          null,
          null,
          null,
          null,
          null,
          null,
          null,
          13.43,
          13.34,
          13.27,
          13.21,
          13.17,
          13.13,
          13.09,
          13.02,
          12.94,
          12.92,
          12.99,
          13.18,
          13.46,
          13.72,
          13.86,
          13.86,
          13.75,
          13.65,
          13.62,
          13.51,
          13.43,
          13.36,
          13.3,
          13.2,
          13.14,
          13.14,
          13.17,
          13.2,
          13.24,
          13.26,
          13.23,
          13.21,
          13.13,
          13.02,
          12.95,
          12.95,
          12.98,
          13,
          13,
          12.99,
          13,
          13.02,
          13.05,
          13.09,
          13.15,
          13.22,
          13.39,
          13.55,
          13.62,
          13.62,
          13.59,
          13.57,
          13.59,
          13.62,
          13.64,
          13.64,
          13.64,
          13.66,
          13.55,
          13.33,
          13.15,
          13.08,
          13.09,
          13.09,
          13.08,
          13.06,
          13,
          12.92,
          12.86,
          12.8,
          12.75,
          12.78,
          12.86,
          12.89,
          12.9,
          12.9,
          12.91,
          12.92,
          12.91,
          12.89,
          12.87,
          12.84,
          12.8,
          12.78,
          12.85,
          13.02,
          13.21,
          13.39,
          13.51,
          13.51,
          13.42,
          13.31,
          13.24,
          13.22,
          13.26,
          13.34,
          13.43,
          13.5,
          13.55,
          13.57,
          13.53,
          13.5,
          13.48,
          13.48,
          13.48,
          13.5,
          13.5,
          13.46,
          13.42,
          13.43
         ]
        }
       ],
       "layout": {
        "height": 700,
        "plot_bgcolor": "gainsboro",
        "template": {
         "data": {
          "bar": [
           {
            "error_x": {
             "color": "#2a3f5f"
            },
            "error_y": {
             "color": "#2a3f5f"
            },
            "marker": {
             "line": {
              "color": "#E5ECF6",
              "width": 0.5
             },
             "pattern": {
              "fillmode": "overlay",
              "size": 10,
              "solidity": 0.2
             }
            },
            "type": "bar"
           }
          ],
          "barpolar": [
           {
            "marker": {
             "line": {
              "color": "#E5ECF6",
              "width": 0.5
             },
             "pattern": {
              "fillmode": "overlay",
              "size": 10,
              "solidity": 0.2
             }
            },
            "type": "barpolar"
           }
          ],
          "carpet": [
           {
            "aaxis": {
             "endlinecolor": "#2a3f5f",
             "gridcolor": "white",
             "linecolor": "white",
             "minorgridcolor": "white",
             "startlinecolor": "#2a3f5f"
            },
            "baxis": {
             "endlinecolor": "#2a3f5f",
             "gridcolor": "white",
             "linecolor": "white",
             "minorgridcolor": "white",
             "startlinecolor": "#2a3f5f"
            },
            "type": "carpet"
           }
          ],
          "choropleth": [
           {
            "colorbar": {
             "outlinewidth": 0,
             "ticks": ""
            },
            "type": "choropleth"
           }
          ],
          "contour": [
           {
            "colorbar": {
             "outlinewidth": 0,
             "ticks": ""
            },
            "colorscale": [
             [
              0,
              "#0d0887"
             ],
             [
              0.1111111111111111,
              "#46039f"
             ],
             [
              0.2222222222222222,
              "#7201a8"
             ],
             [
              0.3333333333333333,
              "#9c179e"
             ],
             [
              0.4444444444444444,
              "#bd3786"
             ],
             [
              0.5555555555555556,
              "#d8576b"
             ],
             [
              0.6666666666666666,
              "#ed7953"
             ],
             [
              0.7777777777777778,
              "#fb9f3a"
             ],
             [
              0.8888888888888888,
              "#fdca26"
             ],
             [
              1,
              "#f0f921"
             ]
            ],
            "type": "contour"
           }
          ],
          "contourcarpet": [
           {
            "colorbar": {
             "outlinewidth": 0,
             "ticks": ""
            },
            "type": "contourcarpet"
           }
          ],
          "heatmap": [
           {
            "colorbar": {
             "outlinewidth": 0,
             "ticks": ""
            },
            "colorscale": [
             [
              0,
              "#0d0887"
             ],
             [
              0.1111111111111111,
              "#46039f"
             ],
             [
              0.2222222222222222,
              "#7201a8"
             ],
             [
              0.3333333333333333,
              "#9c179e"
             ],
             [
              0.4444444444444444,
              "#bd3786"
             ],
             [
              0.5555555555555556,
              "#d8576b"
             ],
             [
              0.6666666666666666,
              "#ed7953"
             ],
             [
              0.7777777777777778,
              "#fb9f3a"
             ],
             [
              0.8888888888888888,
              "#fdca26"
             ],
             [
              1,
              "#f0f921"
             ]
            ],
            "type": "heatmap"
           }
          ],
          "heatmapgl": [
           {
            "colorbar": {
             "outlinewidth": 0,
             "ticks": ""
            },
            "colorscale": [
             [
              0,
              "#0d0887"
             ],
             [
              0.1111111111111111,
              "#46039f"
             ],
             [
              0.2222222222222222,
              "#7201a8"
             ],
             [
              0.3333333333333333,
              "#9c179e"
             ],
             [
              0.4444444444444444,
              "#bd3786"
             ],
             [
              0.5555555555555556,
              "#d8576b"
             ],
             [
              0.6666666666666666,
              "#ed7953"
             ],
             [
              0.7777777777777778,
              "#fb9f3a"
             ],
             [
              0.8888888888888888,
              "#fdca26"
             ],
             [
              1,
              "#f0f921"
             ]
            ],
            "type": "heatmapgl"
           }
          ],
          "histogram": [
           {
            "marker": {
             "pattern": {
              "fillmode": "overlay",
              "size": 10,
              "solidity": 0.2
             }
            },
            "type": "histogram"
           }
          ],
          "histogram2d": [
           {
            "colorbar": {
             "outlinewidth": 0,
             "ticks": ""
            },
            "colorscale": [
             [
              0,
              "#0d0887"
             ],
             [
              0.1111111111111111,
              "#46039f"
             ],
             [
              0.2222222222222222,
              "#7201a8"
             ],
             [
              0.3333333333333333,
              "#9c179e"
             ],
             [
              0.4444444444444444,
              "#bd3786"
             ],
             [
              0.5555555555555556,
              "#d8576b"
             ],
             [
              0.6666666666666666,
              "#ed7953"
             ],
             [
              0.7777777777777778,
              "#fb9f3a"
             ],
             [
              0.8888888888888888,
              "#fdca26"
             ],
             [
              1,
              "#f0f921"
             ]
            ],
            "type": "histogram2d"
           }
          ],
          "histogram2dcontour": [
           {
            "colorbar": {
             "outlinewidth": 0,
             "ticks": ""
            },
            "colorscale": [
             [
              0,
              "#0d0887"
             ],
             [
              0.1111111111111111,
              "#46039f"
             ],
             [
              0.2222222222222222,
              "#7201a8"
             ],
             [
              0.3333333333333333,
              "#9c179e"
             ],
             [
              0.4444444444444444,
              "#bd3786"
             ],
             [
              0.5555555555555556,
              "#d8576b"
             ],
             [
              0.6666666666666666,
              "#ed7953"
             ],
             [
              0.7777777777777778,
              "#fb9f3a"
             ],
             [
              0.8888888888888888,
              "#fdca26"
             ],
             [
              1,
              "#f0f921"
             ]
            ],
            "type": "histogram2dcontour"
           }
          ],
          "mesh3d": [
           {
            "colorbar": {
             "outlinewidth": 0,
             "ticks": ""
            },
            "type": "mesh3d"
           }
          ],
          "parcoords": [
           {
            "line": {
             "colorbar": {
              "outlinewidth": 0,
              "ticks": ""
             }
            },
            "type": "parcoords"
           }
          ],
          "pie": [
           {
            "automargin": true,
            "type": "pie"
           }
          ],
          "scatter": [
           {
            "marker": {
             "colorbar": {
              "outlinewidth": 0,
              "ticks": ""
             }
            },
            "type": "scatter"
           }
          ],
          "scatter3d": [
           {
            "line": {
             "colorbar": {
              "outlinewidth": 0,
              "ticks": ""
             }
            },
            "marker": {
             "colorbar": {
              "outlinewidth": 0,
              "ticks": ""
             }
            },
            "type": "scatter3d"
           }
          ],
          "scattercarpet": [
           {
            "marker": {
             "colorbar": {
              "outlinewidth": 0,
              "ticks": ""
             }
            },
            "type": "scattercarpet"
           }
          ],
          "scattergeo": [
           {
            "marker": {
             "colorbar": {
              "outlinewidth": 0,
              "ticks": ""
             }
            },
            "type": "scattergeo"
           }
          ],
          "scattergl": [
           {
            "marker": {
             "colorbar": {
              "outlinewidth": 0,
              "ticks": ""
             }
            },
            "type": "scattergl"
           }
          ],
          "scattermapbox": [
           {
            "marker": {
             "colorbar": {
              "outlinewidth": 0,
              "ticks": ""
             }
            },
            "type": "scattermapbox"
           }
          ],
          "scatterpolar": [
           {
            "marker": {
             "colorbar": {
              "outlinewidth": 0,
              "ticks": ""
             }
            },
            "type": "scatterpolar"
           }
          ],
          "scatterpolargl": [
           {
            "marker": {
             "colorbar": {
              "outlinewidth": 0,
              "ticks": ""
             }
            },
            "type": "scatterpolargl"
           }
          ],
          "scatterternary": [
           {
            "marker": {
             "colorbar": {
              "outlinewidth": 0,
              "ticks": ""
             }
            },
            "type": "scatterternary"
           }
          ],
          "surface": [
           {
            "colorbar": {
             "outlinewidth": 0,
             "ticks": ""
            },
            "colorscale": [
             [
              0,
              "#0d0887"
             ],
             [
              0.1111111111111111,
              "#46039f"
             ],
             [
              0.2222222222222222,
              "#7201a8"
             ],
             [
              0.3333333333333333,
              "#9c179e"
             ],
             [
              0.4444444444444444,
              "#bd3786"
             ],
             [
              0.5555555555555556,
              "#d8576b"
             ],
             [
              0.6666666666666666,
              "#ed7953"
             ],
             [
              0.7777777777777778,
              "#fb9f3a"
             ],
             [
              0.8888888888888888,
              "#fdca26"
             ],
             [
              1,
              "#f0f921"
             ]
            ],
            "type": "surface"
           }
          ],
          "table": [
           {
            "cells": {
             "fill": {
              "color": "#EBF0F8"
             },
             "line": {
              "color": "white"
             }
            },
            "header": {
             "fill": {
              "color": "#C8D4E3"
             },
             "line": {
              "color": "white"
             }
            },
            "type": "table"
           }
          ]
         },
         "layout": {
          "annotationdefaults": {
           "arrowcolor": "#2a3f5f",
           "arrowhead": 0,
           "arrowwidth": 1
          },
          "autotypenumbers": "strict",
          "coloraxis": {
           "colorbar": {
            "outlinewidth": 0,
            "ticks": ""
           }
          },
          "colorscale": {
           "diverging": [
            [
             0,
             "#8e0152"
            ],
            [
             0.1,
             "#c51b7d"
            ],
            [
             0.2,
             "#de77ae"
            ],
            [
             0.3,
             "#f1b6da"
            ],
            [
             0.4,
             "#fde0ef"
            ],
            [
             0.5,
             "#f7f7f7"
            ],
            [
             0.6,
             "#e6f5d0"
            ],
            [
             0.7,
             "#b8e186"
            ],
            [
             0.8,
             "#7fbc41"
            ],
            [
             0.9,
             "#4d9221"
            ],
            [
             1,
             "#276419"
            ]
           ],
           "sequential": [
            [
             0,
             "#0d0887"
            ],
            [
             0.1111111111111111,
             "#46039f"
            ],
            [
             0.2222222222222222,
             "#7201a8"
            ],
            [
             0.3333333333333333,
             "#9c179e"
            ],
            [
             0.4444444444444444,
             "#bd3786"
            ],
            [
             0.5555555555555556,
             "#d8576b"
            ],
            [
             0.6666666666666666,
             "#ed7953"
            ],
            [
             0.7777777777777778,
             "#fb9f3a"
            ],
            [
             0.8888888888888888,
             "#fdca26"
            ],
            [
             1,
             "#f0f921"
            ]
           ],
           "sequentialminus": [
            [
             0,
             "#0d0887"
            ],
            [
             0.1111111111111111,
             "#46039f"
            ],
            [
             0.2222222222222222,
             "#7201a8"
            ],
            [
             0.3333333333333333,
             "#9c179e"
            ],
            [
             0.4444444444444444,
             "#bd3786"
            ],
            [
             0.5555555555555556,
             "#d8576b"
            ],
            [
             0.6666666666666666,
             "#ed7953"
            ],
            [
             0.7777777777777778,
             "#fb9f3a"
            ],
            [
             0.8888888888888888,
             "#fdca26"
            ],
            [
             1,
             "#f0f921"
            ]
           ]
          },
          "colorway": [
           "#636efa",
           "#EF553B",
           "#00cc96",
           "#ab63fa",
           "#FFA15A",
           "#19d3f3",
           "#FF6692",
           "#B6E880",
           "#FF97FF",
           "#FECB52"
          ],
          "font": {
           "color": "#2a3f5f"
          },
          "geo": {
           "bgcolor": "white",
           "lakecolor": "white",
           "landcolor": "#E5ECF6",
           "showlakes": true,
           "showland": true,
           "subunitcolor": "white"
          },
          "hoverlabel": {
           "align": "left"
          },
          "hovermode": "closest",
          "mapbox": {
           "style": "light"
          },
          "paper_bgcolor": "white",
          "plot_bgcolor": "#E5ECF6",
          "polar": {
           "angularaxis": {
            "gridcolor": "white",
            "linecolor": "white",
            "ticks": ""
           },
           "bgcolor": "#E5ECF6",
           "radialaxis": {
            "gridcolor": "white",
            "linecolor": "white",
            "ticks": ""
           }
          },
          "scene": {
           "xaxis": {
            "backgroundcolor": "#E5ECF6",
            "gridcolor": "white",
            "gridwidth": 2,
            "linecolor": "white",
            "showbackground": true,
            "ticks": "",
            "zerolinecolor": "white"
           },
           "yaxis": {
            "backgroundcolor": "#E5ECF6",
            "gridcolor": "white",
            "gridwidth": 2,
            "linecolor": "white",
            "showbackground": true,
            "ticks": "",
            "zerolinecolor": "white"
           },
           "zaxis": {
            "backgroundcolor": "#E5ECF6",
            "gridcolor": "white",
            "gridwidth": 2,
            "linecolor": "white",
            "showbackground": true,
            "ticks": "",
            "zerolinecolor": "white"
           }
          },
          "shapedefaults": {
           "line": {
            "color": "#2a3f5f"
           }
          },
          "ternary": {
           "aaxis": {
            "gridcolor": "white",
            "linecolor": "white",
            "ticks": ""
           },
           "baxis": {
            "gridcolor": "white",
            "linecolor": "white",
            "ticks": ""
           },
           "bgcolor": "#E5ECF6",
           "caxis": {
            "gridcolor": "white",
            "linecolor": "white",
            "ticks": ""
           }
          },
          "title": {
           "x": 0.05
          },
          "xaxis": {
           "automargin": true,
           "gridcolor": "white",
           "linecolor": "white",
           "ticks": "",
           "title": {
            "standoff": 15
           },
           "zerolinecolor": "white",
           "zerolinewidth": 2
          },
          "yaxis": {
           "automargin": true,
           "gridcolor": "white",
           "linecolor": "white",
           "ticks": "",
           "title": {
            "standoff": 15
           },
           "zerolinecolor": "white",
           "zerolinewidth": 2
          }
         }
        },
        "title": {
         "text": "Chart: WBD (13.51), 30 minute"
        },
        "xaxis": {
         "rangeslider": {
          "visible": false
         },
         "showgrid": false,
         "tickprefix": " ",
         "title": {
          "text": "Datetime"
         }
        },
        "yaxis": {
         "showgrid": false,
         "ticksuffix": " ",
         "title": {
          "text": "Price"
         }
        }
       }
      },
      "text/html": [
       "<div>                            <div id=\"81ef37e7-92b5-4065-9bad-0269894e8d92\" class=\"plotly-graph-div\" style=\"height:700px; width:100%;\"></div>            <script type=\"text/javascript\">                require([\"plotly\"], function(Plotly) {                    window.PLOTLYENV=window.PLOTLYENV || {};                                    if (document.getElementById(\"81ef37e7-92b5-4065-9bad-0269894e8d92\")) {                    Plotly.newPlot(                        \"81ef37e7-92b5-4065-9bad-0269894e8d92\",                        [{\"close\":[\"\",13.445,13.39685,13.435143749999998,13.500202343749999,13.53285146484375,13.490982165527344,13.46317635345459,13.38988522090912,13.315953263068199,13.287583289417624,13.221614555886013,13.19913409742876,13.157783810892974,13.09692738180811,13.004342113630067,12.953963821018792,12.993727388136746,13.083579617585468,13.304737260990915,13.537335788119323,13.693959867574579,13.72122491723411,13.70124057327132,13.610537858294576,13.614086161434109,13.650053850896319,13.4169086568102,13.465567910506374,13.390354944066484,13.295846840041552,13.198654275025971,13.194783921891233,13.208864951182019,13.217290594488762,13.215231621555477,13.276594763472174,13.224321727170109,13.200201079481317,13.222000674675824,13.052500421672391,13.005312763545243,12.995395477215776,13.019522173259862,13.016576358287413,13.003135223929634,12.990572014956022,12.999107509347514,13.019867193342197,13.025016995838872,13.055635622399297,13.10914726399956,13.150717039999726,13.237948149999827,13.459967593749893,13.531854746093682,13.501159216308551,13.553224510192845,13.534515318870527,13.548647074294081,13.6037419214338,13.619838700896125,13.617399188060078,13.618999492537549,13.630624682835967,13.67539042677248,13.4008690167328,13.251168135458,13.204480084661249,13.18405005291328,13.176281283070802,13.125800801919251,13.09487550119953,13.071484688249708,12.984402930156065,12.91750183134754,12.893438644592214,12.812949152870132,12.768218220543833,12.894636387839896,12.898272742399934,12.86454546399996,12.897840914999975,12.887400571874984,12.925250357421865,12.910156473388664,12.884472795867914,12.891495497417448,12.859709685885905,12.83544355367869,12.800277221049182,12.789548263155737,12.961342664472337,13.106051665295212,13.215144790809507,13.38596549425594,13.431415933909964,13.363384958693729,13.312740599183579,13.264212874489736,13.247008046556084,13.268880029097552,13.313925018185971,13.378078136366232,13.445048835228894,13.485030522018059,13.526894076261287,13.521808797663304,13.470505498539564,13.489065936587227,13.494416210367019,13.475260131479388,13.497562582174616,13.508839113859135,13.48239944616196,13.435249653851224,13.414556033657014,13.494710021035635,\" \"],\"high\":[\"\",13.62,13.4825,13.4809,13.61,13.63,13.5381,13.49590541381836,13.479540883636474,13.434713052272798,13.375333157670498,13.331458223544061,13.276536389715037,13.237835243571897,13.2399,13.147368454520272,13.07585528407517,13.05,13.17,13.53,13.77,13.88,13.875,13.7869,13.72,13.67,13.7,13.637634627240796,13.54,13.51,13.44338736016621,13.36961710010388,13.284135687564927,13.23945980472808,13.24,13.24,13.35,13.38,13.25,13.27,13.22000168668956,13.136251054180976,13.07078190886311,13.07,13.055,13.04,13.012288059824083,13.02,13.05,13.05,13.1,13.16,13.2,13.47,13.645,13.72,13.57,13.65,13.62,13.61,13.67,13.69,13.65,13.68,13.67,13.75,13.6484760669312,13.524672541832,13.387920338645,13.296200211653124,13.240125132283202,13.208203207677002,13.167002004798126,13.130938752998828,13.101211720624267,13.042807325390166,12.980154578368854,12.936796611480535,12.874872882175334,13.15,12.995,12.98,12.995,12.95,13.01,13.0,12.91,12.95,12.893838743543618,12.87677421471476,12.856108884196725,12.828193052622954,13.1565,13.2691,13.34,13.59,13.59,13.46,13.37,13.331851497958949,13.298032186224344,13.32,13.36,13.45,13.54,13.64,13.66,13.59,13.55,13.54,13.54,13.5,13.5271,13.545,13.53,13.490998615404898,13.46312413462806,13.58,\" \"],\"low\":[\"\",13.205,13.265,13.37,13.437409375,13.468805859375,13.455,13.41,13.3,13.23,13.21,13.14,13.13,13.0633,12.96,12.91,12.82,12.87,13.0,13.043949043963666,13.174343152477292,13.355839470298307,13.524899668936442,13.623062293085276,13.5,13.51,13.595,13.17,13.31,13.275,13.19,13.05,13.11,13.17,13.18,13.19,13.2036,13.06,13.14,13.15,12.86,12.87,12.93,12.93,12.99,12.965,12.96,12.97,13.0,13.005,13.015,13.036589055998238,13.0728681599989,12.97,13.17487037499957,13.317418984374731,13.424636865234206,13.462898040771378,13.495,13.505,13.5349676857352,13.569354803584499,13.59,13.59,13.575,13.61,13.16,13.06,13.09,13.08,13.11,13.04,13.04,13.005,12.91,12.83,12.83,12.72,12.69,12.702,12.855,12.8,12.795,12.83,12.83,12.84,12.825,12.84,12.82,12.79,12.75,12.72,12.79,12.885106661180842,12.995579163238027,13.105361977023767,13.245663735639853,13.3,13.24,13.2,13.18,13.183,13.270700072743884,13.292312545464927,13.335195340915579,13.345,13.437576305045148,13.47,13.4,13.4,13.46,13.43,13.47,13.475,13.42,13.375,13.34,13.39,\" \"],\"name\":\"Candles\",\"open\":[\"\",13.52,13.4825,13.439675000000001,13.437409375,13.468805859375,13.500828662109374,13.49590541381836,13.479540883636474,13.434713052272798,13.375333157670498,13.331458223544061,13.276536389715037,13.237835243571897,13.197809527232437,13.147368454520272,13.07585528407517,13.014909552546982,13.004318470341865,13.043949043963666,13.174343152477292,13.355839470298307,13.524899668936442,13.623062293085276,13.662151433178298,13.636344645736436,13.625215403585273,13.637634627240796,13.527271642025498,13.496419776265936,13.44338736016621,13.36961710010388,13.284135687564927,13.23945980472808,13.22416237795505,13.220726486221906,13.21797905388869,13.247286908680433,13.235804317925272,13.218002698703295,13.22000168668956,13.136251054180976,13.07078190886311,13.033088693039442,13.026305433149652,13.021440895718532,13.012288059824083,13.001430037390053,13.000268773368784,13.01006798335549,13.017542489597181,13.036589055998238,13.0728681599989,13.111792599999312,13.17487037499957,13.317418984374731,13.424636865234206,13.462898040771378,13.508061275482111,13.52128829717632,13.5349676857352,13.569354803584499,13.594596752240312,13.605997970150195,13.612498731343873,13.62156170708992,13.6484760669312,13.524672541832,13.387920338645,13.296200211653124,13.240125132283202,13.208203207677002,13.167002004798126,13.130938752998828,13.101211720624267,13.042807325390166,12.980154578368854,12.936796611480535,12.874872882175334,12.821545551359584,12.85809096959974,12.878181855999838,12.871363659999899,12.884602287499938,12.886001429687461,12.905625893554664,12.907891183471664,12.896181989669788,12.893838743543618,12.87677421471476,12.856108884196725,12.828193052622954,12.808870657889345,12.885106661180842,12.995579163238027,13.105361977023767,13.245663735639853,13.33853983477491,13.35096239673432,13.331851497958949,13.298032186224344,13.272520116390215,13.270700072743884,13.292312545464927,13.335195340915579,13.390122088072236,13.437576305045148,13.482235190653217,13.50202199415826,13.486263746348913,13.48766484146807,13.491040525917544,13.483150328698466,13.49035645543654,13.499597784647838,13.490998615404898,13.46312413462806,13.438840084142537,\" \"],\"x\":[\"\",\"08/15 06:30\",\"08/15 07:00\",\"08/15 07:30\",\"08/15 08:00\",\"08/15 08:30\",\"08/15 09:00\",\"08/15 09:30\",\"08/15 10:00\",\"08/15 10:30\",\"08/15 11:00\",\"08/15 11:30\",\"08/15 12:00\",\"08/15 12:30\",\"08/16 06:30\",\"08/16 07:00\",\"08/16 07:30\",\"08/16 08:00\",\"08/16 08:30\",\"08/16 09:00\",\"08/16 09:30\",\"08/16 10:00\",\"08/16 10:30\",\"08/16 11:00\",\"08/16 11:30\",\"08/16 12:00\",\"08/16 12:30\",\"08/17 06:30\",\"08/17 07:00\",\"08/17 07:30\",\"08/17 08:00\",\"08/17 08:30\",\"08/17 09:00\",\"08/17 09:30\",\"08/17 10:00\",\"08/17 10:30\",\"08/17 11:00\",\"08/17 11:30\",\"08/17 12:00\",\"08/17 12:30\",\"08/18 06:30\",\"08/18 07:00\",\"08/18 07:30\",\"08/18 08:00\",\"08/18 08:30\",\"08/18 09:00\",\"08/18 09:30\",\"08/18 10:00\",\"08/18 10:30\",\"08/18 11:00\",\"08/18 11:30\",\"08/18 12:00\",\"08/18 12:30\",\"08/19 06:30\",\"08/19 07:00\",\"08/19 07:30\",\"08/19 08:00\",\"08/19 08:30\",\"08/19 09:00\",\"08/19 09:30\",\"08/19 10:00\",\"08/19 10:30\",\"08/19 11:00\",\"08/19 11:30\",\"08/19 12:00\",\"08/19 12:30\",\"08/22 06:30\",\"08/22 07:00\",\"08/22 07:30\",\"08/22 08:00\",\"08/22 08:30\",\"08/22 09:00\",\"08/22 09:30\",\"08/22 10:00\",\"08/22 10:30\",\"08/22 11:00\",\"08/22 11:30\",\"08/22 12:00\",\"08/22 12:30\",\"08/23 06:30\",\"08/23 07:00\",\"08/23 07:30\",\"08/23 08:00\",\"08/23 08:30\",\"08/23 09:00\",\"08/23 09:30\",\"08/23 10:00\",\"08/23 10:30\",\"08/23 11:00\",\"08/23 11:30\",\"08/23 12:00\",\"08/23 12:30\",\"08/24 06:30\",\"08/24 07:00\",\"08/24 07:30\",\"08/24 08:00\",\"08/24 08:30\",\"08/24 09:00\",\"08/24 09:30\",\"08/24 10:00\",\"08/24 10:30\",\"08/24 11:00\",\"08/24 11:30\",\"08/24 12:00\",\"08/24 12:30\",\"08/25 06:30\",\"08/25 07:00\",\"08/25 07:30\",\"08/25 08:00\",\"08/25 08:30\",\"08/25 09:00\",\"08/25 09:30\",\"08/25 10:00\",\"08/25 10:30\",\"08/25 11:00\",\"08/25 11:30\",\"08/25 12:00\",\"08/25 12:30\",\" \"],\"type\":\"candlestick\"},{\"line\":{\"color\":\"blue\",\"width\":1.5},\"name\":\"EMA 10\",\"x\":[\"\",\"08/15 06:30\",\"08/15 07:00\",\"08/15 07:30\",\"08/15 08:00\",\"08/15 08:30\",\"08/15 09:00\",\"08/15 09:30\",\"08/15 10:00\",\"08/15 10:30\",\"08/15 11:00\",\"08/15 11:30\",\"08/15 12:00\",\"08/15 12:30\",\"08/16 06:30\",\"08/16 07:00\",\"08/16 07:30\",\"08/16 08:00\",\"08/16 08:30\",\"08/16 09:00\",\"08/16 09:30\",\"08/16 10:00\",\"08/16 10:30\",\"08/16 11:00\",\"08/16 11:30\",\"08/16 12:00\",\"08/16 12:30\",\"08/17 06:30\",\"08/17 07:00\",\"08/17 07:30\",\"08/17 08:00\",\"08/17 08:30\",\"08/17 09:00\",\"08/17 09:30\",\"08/17 10:00\",\"08/17 10:30\",\"08/17 11:00\",\"08/17 11:30\",\"08/17 12:00\",\"08/17 12:30\",\"08/18 06:30\",\"08/18 07:00\",\"08/18 07:30\",\"08/18 08:00\",\"08/18 08:30\",\"08/18 09:00\",\"08/18 09:30\",\"08/18 10:00\",\"08/18 10:30\",\"08/18 11:00\",\"08/18 11:30\",\"08/18 12:00\",\"08/18 12:30\",\"08/19 06:30\",\"08/19 07:00\",\"08/19 07:30\",\"08/19 08:00\",\"08/19 08:30\",\"08/19 09:00\",\"08/19 09:30\",\"08/19 10:00\",\"08/19 10:30\",\"08/19 11:00\",\"08/19 11:30\",\"08/19 12:00\",\"08/19 12:30\",\"08/22 06:30\",\"08/22 07:00\",\"08/22 07:30\",\"08/22 08:00\",\"08/22 08:30\",\"08/22 09:00\",\"08/22 09:30\",\"08/22 10:00\",\"08/22 10:30\",\"08/22 11:00\",\"08/22 11:30\",\"08/22 12:00\",\"08/22 12:30\",\"08/23 06:30\",\"08/23 07:00\",\"08/23 07:30\",\"08/23 08:00\",\"08/23 08:30\",\"08/23 09:00\",\"08/23 09:30\",\"08/23 10:00\",\"08/23 10:30\",\"08/23 11:00\",\"08/23 11:30\",\"08/23 12:00\",\"08/23 12:30\",\"08/24 06:30\",\"08/24 07:00\",\"08/24 07:30\",\"08/24 08:00\",\"08/24 08:30\",\"08/24 09:00\",\"08/24 09:30\",\"08/24 10:00\",\"08/24 10:30\",\"08/24 11:00\",\"08/24 11:30\",\"08/24 12:00\",\"08/24 12:30\",\"08/25 06:30\",\"08/25 07:00\",\"08/25 07:30\",\"08/25 08:00\",\"08/25 08:30\",\"08/25 09:00\",\"08/25 09:30\",\"08/25 10:00\",\"08/25 10:30\",\"08/25 11:00\",\"08/25 11:30\",\"08/25 12:00\",\"08/25 12:30\"],\"y\":[null,null,null,null,null,null,null,null,null,null,13.4,13.37,13.34,13.31,13.27,13.22,13.17,13.14,13.13,13.16,13.23,13.31,13.39,13.44,13.48,13.5,13.53,13.51,13.5,13.48,13.45,13.4,13.36,13.34,13.31,13.3,13.29,13.28,13.27,13.26,13.22,13.18,13.15,13.12,13.1,13.09,13.07,13.06,13.05,13.05,13.05,13.06,13.08,13.1,13.17,13.24,13.28,13.33,13.37,13.4,13.44,13.47,13.5,13.52,13.54,13.56,13.53,13.48,13.43,13.39,13.35,13.31,13.27,13.23,13.19,13.14,13.09,13.04,12.99,12.98,12.96,12.94,12.94,12.93,12.93,12.92,12.92,12.91,12.9,12.89,12.87,12.86,12.88,12.92,12.97,13.05,13.12,13.16,13.19,13.2,13.21,13.22,13.24,13.26,13.3,13.33,13.37,13.39,13.41,13.42,13.44,13.44,13.45,13.46,13.47,13.46,13.45,13.46],\"type\":\"scatter\"},{\"line\":{\"color\":\"purple\",\"width\":1.5},\"name\":\"HMA 7\",\"x\":[\"\",\"08/15 06:30\",\"08/15 07:00\",\"08/15 07:30\",\"08/15 08:00\",\"08/15 08:30\",\"08/15 09:00\",\"08/15 09:30\",\"08/15 10:00\",\"08/15 10:30\",\"08/15 11:00\",\"08/15 11:30\",\"08/15 12:00\",\"08/15 12:30\",\"08/16 06:30\",\"08/16 07:00\",\"08/16 07:30\",\"08/16 08:00\",\"08/16 08:30\",\"08/16 09:00\",\"08/16 09:30\",\"08/16 10:00\",\"08/16 10:30\",\"08/16 11:00\",\"08/16 11:30\",\"08/16 12:00\",\"08/16 12:30\",\"08/17 06:30\",\"08/17 07:00\",\"08/17 07:30\",\"08/17 08:00\",\"08/17 08:30\",\"08/17 09:00\",\"08/17 09:30\",\"08/17 10:00\",\"08/17 10:30\",\"08/17 11:00\",\"08/17 11:30\",\"08/17 12:00\",\"08/17 12:30\",\"08/18 06:30\",\"08/18 07:00\",\"08/18 07:30\",\"08/18 08:00\",\"08/18 08:30\",\"08/18 09:00\",\"08/18 09:30\",\"08/18 10:00\",\"08/18 10:30\",\"08/18 11:00\",\"08/18 11:30\",\"08/18 12:00\",\"08/18 12:30\",\"08/19 06:30\",\"08/19 07:00\",\"08/19 07:30\",\"08/19 08:00\",\"08/19 08:30\",\"08/19 09:00\",\"08/19 09:30\",\"08/19 10:00\",\"08/19 10:30\",\"08/19 11:00\",\"08/19 11:30\",\"08/19 12:00\",\"08/19 12:30\",\"08/22 06:30\",\"08/22 07:00\",\"08/22 07:30\",\"08/22 08:00\",\"08/22 08:30\",\"08/22 09:00\",\"08/22 09:30\",\"08/22 10:00\",\"08/22 10:30\",\"08/22 11:00\",\"08/22 11:30\",\"08/22 12:00\",\"08/22 12:30\",\"08/23 06:30\",\"08/23 07:00\",\"08/23 07:30\",\"08/23 08:00\",\"08/23 08:30\",\"08/23 09:00\",\"08/23 09:30\",\"08/23 10:00\",\"08/23 10:30\",\"08/23 11:00\",\"08/23 11:30\",\"08/23 12:00\",\"08/23 12:30\",\"08/24 06:30\",\"08/24 07:00\",\"08/24 07:30\",\"08/24 08:00\",\"08/24 08:30\",\"08/24 09:00\",\"08/24 09:30\",\"08/24 10:00\",\"08/24 10:30\",\"08/24 11:00\",\"08/24 11:30\",\"08/24 12:00\",\"08/24 12:30\",\"08/25 06:30\",\"08/25 07:00\",\"08/25 07:30\",\"08/25 08:00\",\"08/25 08:30\",\"08/25 09:00\",\"08/25 09:30\",\"08/25 10:00\",\"08/25 10:30\",\"08/25 11:00\",\"08/25 11:30\",\"08/25 12:00\",\"08/25 12:30\"],\"y\":[null,null,null,null,null,null,null,null,13.43,13.34,13.27,13.21,13.17,13.13,13.09,13.02,12.94,12.92,12.99,13.18,13.46,13.72,13.86,13.86,13.75,13.65,13.62,13.51,13.43,13.36,13.3,13.2,13.14,13.14,13.17,13.2,13.24,13.26,13.23,13.21,13.13,13.02,12.95,12.95,12.98,13.0,13.0,12.99,13.0,13.02,13.05,13.09,13.15,13.22,13.39,13.55,13.62,13.62,13.59,13.57,13.59,13.62,13.64,13.64,13.64,13.66,13.55,13.33,13.15,13.08,13.09,13.09,13.08,13.06,13.0,12.92,12.86,12.8,12.75,12.78,12.86,12.89,12.9,12.9,12.91,12.92,12.91,12.89,12.87,12.84,12.8,12.78,12.85,13.02,13.21,13.39,13.51,13.51,13.42,13.31,13.24,13.22,13.26,13.34,13.43,13.5,13.55,13.57,13.53,13.5,13.48,13.48,13.48,13.5,13.5,13.46,13.42,13.43],\"type\":\"scatter\"}],                        {\"template\":{\"data\":{\"bar\":[{\"error_x\":{\"color\":\"#2a3f5f\"},\"error_y\":{\"color\":\"#2a3f5f\"},\"marker\":{\"line\":{\"color\":\"#E5ECF6\",\"width\":0.5},\"pattern\":{\"fillmode\":\"overlay\",\"size\":10,\"solidity\":0.2}},\"type\":\"bar\"}],\"barpolar\":[{\"marker\":{\"line\":{\"color\":\"#E5ECF6\",\"width\":0.5},\"pattern\":{\"fillmode\":\"overlay\",\"size\":10,\"solidity\":0.2}},\"type\":\"barpolar\"}],\"carpet\":[{\"aaxis\":{\"endlinecolor\":\"#2a3f5f\",\"gridcolor\":\"white\",\"linecolor\":\"white\",\"minorgridcolor\":\"white\",\"startlinecolor\":\"#2a3f5f\"},\"baxis\":{\"endlinecolor\":\"#2a3f5f\",\"gridcolor\":\"white\",\"linecolor\":\"white\",\"minorgridcolor\":\"white\",\"startlinecolor\":\"#2a3f5f\"},\"type\":\"carpet\"}],\"choropleth\":[{\"colorbar\":{\"outlinewidth\":0,\"ticks\":\"\"},\"type\":\"choropleth\"}],\"contour\":[{\"colorbar\":{\"outlinewidth\":0,\"ticks\":\"\"},\"colorscale\":[[0.0,\"#0d0887\"],[0.1111111111111111,\"#46039f\"],[0.2222222222222222,\"#7201a8\"],[0.3333333333333333,\"#9c179e\"],[0.4444444444444444,\"#bd3786\"],[0.5555555555555556,\"#d8576b\"],[0.6666666666666666,\"#ed7953\"],[0.7777777777777778,\"#fb9f3a\"],[0.8888888888888888,\"#fdca26\"],[1.0,\"#f0f921\"]],\"type\":\"contour\"}],\"contourcarpet\":[{\"colorbar\":{\"outlinewidth\":0,\"ticks\":\"\"},\"type\":\"contourcarpet\"}],\"heatmap\":[{\"colorbar\":{\"outlinewidth\":0,\"ticks\":\"\"},\"colorscale\":[[0.0,\"#0d0887\"],[0.1111111111111111,\"#46039f\"],[0.2222222222222222,\"#7201a8\"],[0.3333333333333333,\"#9c179e\"],[0.4444444444444444,\"#bd3786\"],[0.5555555555555556,\"#d8576b\"],[0.6666666666666666,\"#ed7953\"],[0.7777777777777778,\"#fb9f3a\"],[0.8888888888888888,\"#fdca26\"],[1.0,\"#f0f921\"]],\"type\":\"heatmap\"}],\"heatmapgl\":[{\"colorbar\":{\"outlinewidth\":0,\"ticks\":\"\"},\"colorscale\":[[0.0,\"#0d0887\"],[0.1111111111111111,\"#46039f\"],[0.2222222222222222,\"#7201a8\"],[0.3333333333333333,\"#9c179e\"],[0.4444444444444444,\"#bd3786\"],[0.5555555555555556,\"#d8576b\"],[0.6666666666666666,\"#ed7953\"],[0.7777777777777778,\"#fb9f3a\"],[0.8888888888888888,\"#fdca26\"],[1.0,\"#f0f921\"]],\"type\":\"heatmapgl\"}],\"histogram\":[{\"marker\":{\"pattern\":{\"fillmode\":\"overlay\",\"size\":10,\"solidity\":0.2}},\"type\":\"histogram\"}],\"histogram2d\":[{\"colorbar\":{\"outlinewidth\":0,\"ticks\":\"\"},\"colorscale\":[[0.0,\"#0d0887\"],[0.1111111111111111,\"#46039f\"],[0.2222222222222222,\"#7201a8\"],[0.3333333333333333,\"#9c179e\"],[0.4444444444444444,\"#bd3786\"],[0.5555555555555556,\"#d8576b\"],[0.6666666666666666,\"#ed7953\"],[0.7777777777777778,\"#fb9f3a\"],[0.8888888888888888,\"#fdca26\"],[1.0,\"#f0f921\"]],\"type\":\"histogram2d\"}],\"histogram2dcontour\":[{\"colorbar\":{\"outlinewidth\":0,\"ticks\":\"\"},\"colorscale\":[[0.0,\"#0d0887\"],[0.1111111111111111,\"#46039f\"],[0.2222222222222222,\"#7201a8\"],[0.3333333333333333,\"#9c179e\"],[0.4444444444444444,\"#bd3786\"],[0.5555555555555556,\"#d8576b\"],[0.6666666666666666,\"#ed7953\"],[0.7777777777777778,\"#fb9f3a\"],[0.8888888888888888,\"#fdca26\"],[1.0,\"#f0f921\"]],\"type\":\"histogram2dcontour\"}],\"mesh3d\":[{\"colorbar\":{\"outlinewidth\":0,\"ticks\":\"\"},\"type\":\"mesh3d\"}],\"parcoords\":[{\"line\":{\"colorbar\":{\"outlinewidth\":0,\"ticks\":\"\"}},\"type\":\"parcoords\"}],\"pie\":[{\"automargin\":true,\"type\":\"pie\"}],\"scatter\":[{\"marker\":{\"colorbar\":{\"outlinewidth\":0,\"ticks\":\"\"}},\"type\":\"scatter\"}],\"scatter3d\":[{\"line\":{\"colorbar\":{\"outlinewidth\":0,\"ticks\":\"\"}},\"marker\":{\"colorbar\":{\"outlinewidth\":0,\"ticks\":\"\"}},\"type\":\"scatter3d\"}],\"scattercarpet\":[{\"marker\":{\"colorbar\":{\"outlinewidth\":0,\"ticks\":\"\"}},\"type\":\"scattercarpet\"}],\"scattergeo\":[{\"marker\":{\"colorbar\":{\"outlinewidth\":0,\"ticks\":\"\"}},\"type\":\"scattergeo\"}],\"scattergl\":[{\"marker\":{\"colorbar\":{\"outlinewidth\":0,\"ticks\":\"\"}},\"type\":\"scattergl\"}],\"scattermapbox\":[{\"marker\":{\"colorbar\":{\"outlinewidth\":0,\"ticks\":\"\"}},\"type\":\"scattermapbox\"}],\"scatterpolar\":[{\"marker\":{\"colorbar\":{\"outlinewidth\":0,\"ticks\":\"\"}},\"type\":\"scatterpolar\"}],\"scatterpolargl\":[{\"marker\":{\"colorbar\":{\"outlinewidth\":0,\"ticks\":\"\"}},\"type\":\"scatterpolargl\"}],\"scatterternary\":[{\"marker\":{\"colorbar\":{\"outlinewidth\":0,\"ticks\":\"\"}},\"type\":\"scatterternary\"}],\"surface\":[{\"colorbar\":{\"outlinewidth\":0,\"ticks\":\"\"},\"colorscale\":[[0.0,\"#0d0887\"],[0.1111111111111111,\"#46039f\"],[0.2222222222222222,\"#7201a8\"],[0.3333333333333333,\"#9c179e\"],[0.4444444444444444,\"#bd3786\"],[0.5555555555555556,\"#d8576b\"],[0.6666666666666666,\"#ed7953\"],[0.7777777777777778,\"#fb9f3a\"],[0.8888888888888888,\"#fdca26\"],[1.0,\"#f0f921\"]],\"type\":\"surface\"}],\"table\":[{\"cells\":{\"fill\":{\"color\":\"#EBF0F8\"},\"line\":{\"color\":\"white\"}},\"header\":{\"fill\":{\"color\":\"#C8D4E3\"},\"line\":{\"color\":\"white\"}},\"type\":\"table\"}]},\"layout\":{\"annotationdefaults\":{\"arrowcolor\":\"#2a3f5f\",\"arrowhead\":0,\"arrowwidth\":1},\"autotypenumbers\":\"strict\",\"coloraxis\":{\"colorbar\":{\"outlinewidth\":0,\"ticks\":\"\"}},\"colorscale\":{\"diverging\":[[0,\"#8e0152\"],[0.1,\"#c51b7d\"],[0.2,\"#de77ae\"],[0.3,\"#f1b6da\"],[0.4,\"#fde0ef\"],[0.5,\"#f7f7f7\"],[0.6,\"#e6f5d0\"],[0.7,\"#b8e186\"],[0.8,\"#7fbc41\"],[0.9,\"#4d9221\"],[1,\"#276419\"]],\"sequential\":[[0.0,\"#0d0887\"],[0.1111111111111111,\"#46039f\"],[0.2222222222222222,\"#7201a8\"],[0.3333333333333333,\"#9c179e\"],[0.4444444444444444,\"#bd3786\"],[0.5555555555555556,\"#d8576b\"],[0.6666666666666666,\"#ed7953\"],[0.7777777777777778,\"#fb9f3a\"],[0.8888888888888888,\"#fdca26\"],[1.0,\"#f0f921\"]],\"sequentialminus\":[[0.0,\"#0d0887\"],[0.1111111111111111,\"#46039f\"],[0.2222222222222222,\"#7201a8\"],[0.3333333333333333,\"#9c179e\"],[0.4444444444444444,\"#bd3786\"],[0.5555555555555556,\"#d8576b\"],[0.6666666666666666,\"#ed7953\"],[0.7777777777777778,\"#fb9f3a\"],[0.8888888888888888,\"#fdca26\"],[1.0,\"#f0f921\"]]},\"colorway\":[\"#636efa\",\"#EF553B\",\"#00cc96\",\"#ab63fa\",\"#FFA15A\",\"#19d3f3\",\"#FF6692\",\"#B6E880\",\"#FF97FF\",\"#FECB52\"],\"font\":{\"color\":\"#2a3f5f\"},\"geo\":{\"bgcolor\":\"white\",\"lakecolor\":\"white\",\"landcolor\":\"#E5ECF6\",\"showlakes\":true,\"showland\":true,\"subunitcolor\":\"white\"},\"hoverlabel\":{\"align\":\"left\"},\"hovermode\":\"closest\",\"mapbox\":{\"style\":\"light\"},\"paper_bgcolor\":\"white\",\"plot_bgcolor\":\"#E5ECF6\",\"polar\":{\"angularaxis\":{\"gridcolor\":\"white\",\"linecolor\":\"white\",\"ticks\":\"\"},\"bgcolor\":\"#E5ECF6\",\"radialaxis\":{\"gridcolor\":\"white\",\"linecolor\":\"white\",\"ticks\":\"\"}},\"scene\":{\"xaxis\":{\"backgroundcolor\":\"#E5ECF6\",\"gridcolor\":\"white\",\"gridwidth\":2,\"linecolor\":\"white\",\"showbackground\":true,\"ticks\":\"\",\"zerolinecolor\":\"white\"},\"yaxis\":{\"backgroundcolor\":\"#E5ECF6\",\"gridcolor\":\"white\",\"gridwidth\":2,\"linecolor\":\"white\",\"showbackground\":true,\"ticks\":\"\",\"zerolinecolor\":\"white\"},\"zaxis\":{\"backgroundcolor\":\"#E5ECF6\",\"gridcolor\":\"white\",\"gridwidth\":2,\"linecolor\":\"white\",\"showbackground\":true,\"ticks\":\"\",\"zerolinecolor\":\"white\"}},\"shapedefaults\":{\"line\":{\"color\":\"#2a3f5f\"}},\"ternary\":{\"aaxis\":{\"gridcolor\":\"white\",\"linecolor\":\"white\",\"ticks\":\"\"},\"baxis\":{\"gridcolor\":\"white\",\"linecolor\":\"white\",\"ticks\":\"\"},\"bgcolor\":\"#E5ECF6\",\"caxis\":{\"gridcolor\":\"white\",\"linecolor\":\"white\",\"ticks\":\"\"}},\"title\":{\"x\":0.05},\"xaxis\":{\"automargin\":true,\"gridcolor\":\"white\",\"linecolor\":\"white\",\"ticks\":\"\",\"title\":{\"standoff\":15},\"zerolinecolor\":\"white\",\"zerolinewidth\":2},\"yaxis\":{\"automargin\":true,\"gridcolor\":\"white\",\"linecolor\":\"white\",\"ticks\":\"\",\"title\":{\"standoff\":15},\"zerolinecolor\":\"white\",\"zerolinewidth\":2}}},\"title\":{\"text\":\"Chart: WBD (13.51), 30 minute\"},\"height\":700,\"yaxis\":{\"title\":{\"text\":\"Price\"},\"showgrid\":false,\"ticksuffix\":\" \"},\"xaxis\":{\"title\":{\"text\":\"Datetime\"},\"rangeslider\":{\"visible\":false},\"showgrid\":false,\"tickprefix\":\" \"},\"plot_bgcolor\":\"gainsboro\"},                        {\"responsive\": true}                    ).then(function(){\n",
       "                            \n",
       "var gd = document.getElementById('81ef37e7-92b5-4065-9bad-0269894e8d92');\n",
       "var x = new MutationObserver(function (mutations, observer) {{\n",
       "        var display = window.getComputedStyle(gd).display;\n",
       "        if (!display || display === 'none') {{\n",
       "            console.log([gd, 'removed!']);\n",
       "            Plotly.purge(gd);\n",
       "            observer.disconnect();\n",
       "        }}\n",
       "}});\n",
       "\n",
       "// Listen for the removal of the full notebook cells\n",
       "var notebookContainer = gd.closest('#notebook-container');\n",
       "if (notebookContainer) {{\n",
       "    x.observe(notebookContainer, {childList: true});\n",
       "}}\n",
       "\n",
       "// Listen for the clearing of the current output cell\n",
       "var outputEl = gd.closest('.output');\n",
       "if (outputEl) {{\n",
       "    x.observe(outputEl, {childList: true});\n",
       "}}\n",
       "\n",
       "                        })                };                });            </script>        </div>"
      ]
     },
     "metadata": {},
     "output_type": "display_data"
    }
   ],
   "source": [
    "import plotly.graph_objs as go\n",
    "selected_indicators = [\"EMA\", \"HMA\"]\n",
    "fig = go.Figure()\n",
    "fig.add_trace(go.Candlestick(\n",
    "    x = df['datetime'].append(pd.Series(\" \")),\n",
    "    open = df['open'].append(pd.Series(\" \")),\n",
    "    high = df['high'].append(pd.Series(\" \")),\n",
    "    low = df['low'].append(pd.Series(\" \")),\n",
    "    close = df['close'].append(pd.Series(\" \")), \n",
    "    name = 'Candles'\n",
    "))\n",
    "if \"EMA\" in selected_indicators:\n",
    "    ema_window = tickers_info[idx]['ema_length']\n",
    "    ema = np.round(ta.trend.ema_indicator(pd.to_numeric(df['close']), window=ema_window), 2)\n",
    "    fig.add_trace(go.Scatter(\n",
    "        x = df['datetime'], \n",
    "        y = ema,\n",
    "        line = dict(color='blue', width=1.5), \n",
    "        name = f'EMA {ema_window}'\n",
    "    ))\n",
    "if \"HMA\" in selected_indicators:\n",
    "    hma_window = tickers_info[idx]['hma_length']\n",
    "    hma1 = ta.trend.wma_indicator(pd.to_numeric(df['close']), window=int(hma_window/2))\n",
    "    hma2 = ta.trend.wma_indicator(pd.to_numeric(df['close']), window=hma_window)\n",
    "    hma_raw = (2 * hma1) - hma2\n",
    "    hma = np.round(ta.trend.wma_indicator(hma_raw, window=math.floor(math.sqrt(hma_window))), 2)\n",
    "    fig.add_trace(go.Scatter(\n",
    "        x = df['datetime'], \n",
    "        y = hma,\n",
    "        line = dict(color='purple', width=1.5), \n",
    "        name = f'HMA {hma_window}'\n",
    "    ))\n",
    "fig.update_layout(\n",
    "    title = f'Chart: {ticker} ({last}), {frequency} {frequencyType}',\n",
    "    height = 700,\n",
    "    yaxis_title = 'Price',\n",
    "    xaxis_title = 'Datetime',\n",
    "    plot_bgcolor = 'gainsboro'\n",
    ")\n",
    "fig.update_xaxes(\n",
    "    rangeslider_visible=False,\n",
    "    showgrid=False,\n",
    "    tickprefix=\" \"\n",
    ")\n",
    "fig.update_yaxes(\n",
    "    showgrid=False,\n",
    "    ticksuffix=\" \"\n",
    ")\n",
    "fig.show()"
   ]
  },
  {
   "cell_type": "code",
   "execution_count": 39,
   "id": "928a5455",
   "metadata": {},
   "outputs": [],
   "source": [
    "def get_data_tda(ticker=\"SPY\", periodType=\"day\", period=10, frequencyType=\"minute\", frequency=30, extended_hours=False):\n",
    "    periodTypes = [\"day\", \"month\", \"year\", \"ytd\"]\n",
    "    period_day = [1, 2, 3, 4, 5, 10]\n",
    "    period_month = [1, 2, 3, 6]\n",
    "    period_year = [1, 2, 3, 5, 10, 15, 20]\n",
    "    period_ytd = [1]\n",
    "    frequencyType_day = [\"minute\"]\n",
    "    frequencyType_month = [\"daily\", \"weekly\"]\n",
    "    frequencyType_year = [\"daily\", \"weekly\", \"monthly\"]\n",
    "    frequencyType_ytd = [\"daily\", \"weekly\"]\n",
    "    frequency_minute = [1, 5, 10, 15, 30]\n",
    "    frequency_daily = [1]\n",
    "    frequency_weekly = [1]\n",
    "    frequency_monthly = [1]\n",
    "    factor = 1\n",
    "    if frequencyType in [\"daily\", \"weekly\", \"monthly\"] and frequency != 1:\n",
    "        factor = frequency\n",
    "        frequency = 1\n",
    "    if frequencyType==\"hour\":\n",
    "        frequencyType = \"minute\"\n",
    "        frequency = int(frequency * 60)\n",
    "    if frequencyType == \"minute\" and frequency not in frequency_minute:\n",
    "        freq_min_rev = list(reversed(frequency_minute))\n",
    "        i = 0\n",
    "        while i < len(freq_min_rev):\n",
    "            if frequency % freq_min_rev[i] == 0:\n",
    "                factor = int(frequency / freq_min_rev[i])\n",
    "                frequency = freq_min_rev[i]\n",
    "                break\n",
    "            i += 1\n",
    "    # ext = False\n",
    "    useEpoch = False\n",
    "    now = dt.datetime.now()\n",
    "    epoch = dt.datetime.utcfromtimestamp(0)\n",
    "    # now = dt.datetime.now(tz=utc)\n",
    "    # epoch = pd.Timestamp(dt.datetime.utcfromtimestamp(0),tz=utc)\n",
    "    epoch_now_diff = now - epoch\n",
    "    epoch_to_now = epoch_now_diff.days * 24 * 60 * 60 * 1000 + (epoch_now_diff.seconds * 1000) + (int(epoch_now_diff.microseconds / 1000))\n",
    "    then = now - dt.timedelta(days=1)\n",
    "    epoch_then_diff = then - epoch\n",
    "    epoch_to_then = epoch_then_diff.days * 24 * 60 * 60 * 1000 + (epoch_then_diff.seconds * 1000) + (int(epoch_then_diff.microseconds / 1000))\n",
    "    startDate = epoch_to_then\n",
    "    endDate = epoch_to_now\n",
    "    data_url = f\"{tda_base}/v1/marketdata/{ticker}/pricehistory?apikey={tda_api}&frequencyType={frequencyType}&frequency={frequency}&needExtendedHoursData={extended_hours}&endDate={endDate}\"\n",
    "    if useEpoch:\n",
    "        data_url = data_url + f\"&startDate={startDate}\"\n",
    "    else:\n",
    "        data_url = data_url + f\"&periodType={periodType}&period={period}\"\n",
    "    print(data_url)\n",
    "    tda_headers = tda_authenticate()\n",
    "    req = requests.get(data_url, headers = tda_headers)\n",
    "    resp = json.loads(req.content)\n",
    "    if 'candles' not in resp:\n",
    "        print(resp)\n",
    "    bars = resp['candles']\n",
    "    if bars[-1]['close'] == 0:\n",
    "        bars = bars[:-1]\n",
    "    if factor != 1:\n",
    "        if frequencyType == \"minute\" and frequency == 30:\n",
    "            if factor == 2:\n",
    "                bar_hour_starts_utc = [\"13:30\", \"14:30\", \"15:30\", \"16:30\", \"17:30\", \"18:30\", \"19:30\"]\n",
    "            elif factor == 4:\n",
    "                bar_hour_starts_utc = [\"13:30\", \"15:30\", \"17:30\", \"19:30\"]\n",
    "            elif factor == 6:\n",
    "                bar_hour_starts_utc = [\"13:30\", \"16:30\", \"19:30\"]\n",
    "            elif factor == 8:\n",
    "                bar_hour_starts_utc = [\"13:30\", \"17:30\"]\n",
    "            elif factor == 10:\n",
    "                bar_hour_starts_utc = [\"13:30\", \"18:30\"]\n",
    "            elif factor == 12:\n",
    "                bar_hour_starts_utc = [\"13:30\", \"19:30\"]\n",
    "            bars_hour = []\n",
    "            bars_Xmin = []\n",
    "            highs_Xmin = []\n",
    "            lows_Xmin = []\n",
    "            for bar in bars:\n",
    "                timestampX = pd.to_datetime(int(bar['datetime']) * 1000000)\n",
    "                hourX = timestampX.strftime(\"%H:%M\")\n",
    "                if hourX in bar_hour_starts_utc and len(bars_Xmin) > 0:\n",
    "                    highs_Xmin = []\n",
    "                    lows_Xmin = []\n",
    "                    for barX in bars_Xmin:\n",
    "                        highs_Xmin.append(barX['high'])\n",
    "                        lows_Xmin.append(barX['low'])\n",
    "                    highX = max(highs_Xmin)\n",
    "                    lowX = min(lows_Xmin)\n",
    "                    openX = bars_Xmin[0]['open']\n",
    "                    closeX = bars_Xmin[len(bars_Xmin)-1]['close']\n",
    "                    bar_hour = {\n",
    "                        \"timestamp\": timestampX,\n",
    "                        \"time\": bar['datetime'],\n",
    "                        \"open\": openX,\n",
    "                        \"high\": highX,\n",
    "                        \"low\": lowX,\n",
    "                        \"close\": closeX\n",
    "                    }\n",
    "                    bars_hour.append(bar_hour)\n",
    "                    bars_Xmin = []\n",
    "                bars_Xmin.append(bar)\n",
    "            bars = bars_hour\n",
    "        else:\n",
    "            bars_revised = []\n",
    "            bars_X = []\n",
    "            highs_X = []\n",
    "            lows_X = []\n",
    "            counter = 0\n",
    "            for bar in bars:\n",
    "                timestampX = pd.to_datetime(int(bar['datetime']) * 1000000)\n",
    "                if counter == factor and len(bars_X) > 0:\n",
    "                    highs_X = []\n",
    "                    lows_X = []\n",
    "                    for barX in bars_X:\n",
    "                        highs_X.append(barX['high'])\n",
    "                        lows_X.append(barX['low'])\n",
    "                    highX = max(highs_X)\n",
    "                    lowX = min(lows_X)\n",
    "                    openX = bars_X[0]['open']\n",
    "                    closeX = bars_X[len(bars_X)-1]['close']\n",
    "                    bar_revised = {\n",
    "                        \"timestamp\": timestampX,\n",
    "                        \"time\": bar['datetime'],\n",
    "                        \"open\": openX,\n",
    "                        \"high\": highX,\n",
    "                        \"low\": lowX,\n",
    "                        \"close\": closeX\n",
    "                    }\n",
    "                    bars_revised.append(bar_revised)\n",
    "                    bars_X = []\n",
    "                    counter = 0\n",
    "                bars_X.append(bar)\n",
    "                counter += 1\n",
    "            bars = bars_revised\n",
    "    return bars"
   ]
  }
 ],
 "metadata": {
  "kernelspec": {
   "display_name": "Python 3 (ipykernel)",
   "language": "python",
   "name": "python3"
  },
  "language_info": {
   "codemirror_mode": {
    "name": "ipython",
    "version": 3
   },
   "file_extension": ".py",
   "mimetype": "text/x-python",
   "name": "python",
   "nbconvert_exporter": "python",
   "pygments_lexer": "ipython3",
   "version": "3.9.12"
  },
  "vscode": {
   "interpreter": {
    "hash": "08bf7503c8fc3918b462b3bfb05c6144ca85244900a70e2e22525133782836d1"
   }
  }
 },
 "nbformat": 4,
 "nbformat_minor": 5
}
